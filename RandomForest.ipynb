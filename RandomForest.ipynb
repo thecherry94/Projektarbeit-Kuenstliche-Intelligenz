{
 "cells": [
  {
   "cell_type": "code",
   "execution_count": 2,
   "metadata": {},
   "outputs": [],
   "source": [
    "import pandas as pd\n",
    "import numpy as np\n",
    "import DecisionTree as dt\n",
    "import RandomForest as rf\n",
    "import HelperFunctions as hf\n",
    "from sklearn.ensemble import RandomForestClassifier\n",
    "import HelperFunctions\n",
    "import os"
   ]
  },
  {
   "cell_type": "markdown",
   "metadata": {},
   "source": [
    "#### Data processing"
   ]
  },
  {
   "cell_type": "code",
   "execution_count": 3,
   "metadata": {},
   "outputs": [],
   "source": [
    "# Read the features CSV file\n",
    "df = pd.read_csv(r\"E:\\Uni\\Kuenstliche-Intelligenz\\Projektarbeit\\Projektarbeit-Kuenstliche-Intelligenz\\data\\features.csv\", sep=';', header=None)\n",
    "\n",
    "# Shave off unnecessary data\n",
    "df = df.iloc[1:, 3:]\n",
    "\n",
    "# Put classification column at the end\n",
    "df = df.reindex(columns=[4, 5, 6, 7, 3])\n",
    "\n",
    "# Convert all entries to numbers\n",
    "df = df.apply(pd.to_numeric, errors='coerce')\n",
    "\n",
    "# Remove the multitool classification\n",
    "#df = df[df.iloc[:, -1] < 3]\n",
    "\n",
    "# Shuffle dataset\n",
    "df = df.sample(frac=1)"
   ]
  },
  {
   "cell_type": "markdown",
   "metadata": {},
   "source": [
    "#### Split train / test data"
   ]
  },
  {
   "cell_type": "code",
   "execution_count": 4,
   "metadata": {},
   "outputs": [],
   "source": [
    "train = df.to_numpy(dtype='float32')[int(len(df)*0.8):]\n",
    "test = df.to_numpy(dtype='float32')[:int(len(df)*0.8)]"
   ]
  },
  {
   "cell_type": "markdown",
   "metadata": {},
   "source": [
    "### Build decision forest"
   ]
  },
  {
   "cell_type": "markdown",
   "metadata": {},
   "source": [
    "#### Sklearn forest"
   ]
  },
  {
   "cell_type": "code",
   "execution_count": 5,
   "metadata": {},
   "outputs": [
    {
     "data": {
      "text/plain": [
       "RandomForestClassifier(max_depth=20, random_state=0)"
      ]
     },
     "execution_count": 5,
     "metadata": {},
     "output_type": "execute_result"
    }
   ],
   "source": [
    "X_train = train[:, :-1]\n",
    "y_train = train[:, -1]\n",
    "X_test = test[:, :-1]\n",
    "y_test = test[:, -1]\n",
    "\n",
    "forest_clf = RandomForestClassifier(max_depth=20, random_state=0)\n",
    "forest_clf.fit(X_train, y_train)"
   ]
  },
  {
   "cell_type": "markdown",
   "metadata": {},
   "source": [
    "#### Eigener forest"
   ]
  },
  {
   "cell_type": "code",
   "execution_count": 8,
   "metadata": {},
   "outputs": [],
   "source": [
    "max_depths = [3, 6, 9, 12, 15, 18, 21, 24, 27, 30]\n",
    "min_sizes = [3 for i in range(len(max_depths))]\n",
    "forest = rf.build_forest(train, max_depths, min_sizes)"
   ]
  },
  {
   "cell_type": "markdown",
   "metadata": {},
   "source": [
    "### Vergleich"
   ]
  },
  {
   "cell_type": "markdown",
   "metadata": {},
   "source": [
    "#### sklearn forest"
   ]
  },
  {
   "cell_type": "code",
   "execution_count": 6,
   "metadata": {},
   "outputs": [
    {
     "name": "stdout",
     "output_type": "stream",
     "text": [
      "Accuracy:\t0.5317324185248714\n",
      "Precision:\t0.5005902779028889\n",
      "Loss:\t\t-1\n",
      "Recall:\t\t0.5317324185248714\n",
      "F1-Score:\t0.5068483182070653\n"
     ]
    }
   ],
   "source": [
    "y_pred = forest_clf.predict(X_test)\n",
    "print(HelperFunctions.get_scores(y_test, y_pred))"
   ]
  },
  {
   "cell_type": "markdown",
   "metadata": {},
   "source": [
    "#### Eigener forest"
   ]
  },
  {
   "cell_type": "code",
   "execution_count": 9,
   "metadata": {},
   "outputs": [
    {
     "name": "stdout",
     "output_type": "stream",
     "text": [
      "Accuracy:\t0.5008576329331046\n",
      "Precision:\t0.4891943215140337\n",
      "Loss:\t\t-1\n",
      "Recall:\t\t0.5008576329331046\n",
      "F1-Score:\t0.49466212507467916\n"
     ]
    }
   ],
   "source": [
    "pred = np.array([rf.predict(forest, row) for row in test]).astype(int)\n",
    "print(HelperFunctions.get_scores(y_test, pred))"
   ]
  },
  {
   "cell_type": "markdown",
   "metadata": {},
   "source": [
    "### Bilder von Frau Burghart hier"
   ]
  },
  {
   "cell_type": "code",
   "execution_count": 14,
   "metadata": {},
   "outputs": [
    {
     "name": "stdout",
     "output_type": "stream",
     "text": [
      "Class names and indices: {'bottleOpener': 0, 'canOpener': 1, 'corcScrew': 2, 'multiTool': 3}\n",
      "94.74 %\r"
     ]
    }
   ],
   "source": [
    "df = HelperFunctions.extract_features(os.path.join(\"data\", \"images\", \"test\"))\n",
    "df = HelperFunctions.process_feature_dataframe(df)\n",
    "x_test = np.array(df.iloc[:, :]).astype(float)\n",
    "y_test = np.array(df.iloc[:, -1]).astype(float)"
   ]
  },
  {
   "cell_type": "markdown",
   "metadata": {},
   "source": [
    "#### sklearn forest"
   ]
  },
  {
   "cell_type": "code",
   "execution_count": 19,
   "metadata": {},
   "outputs": [
    {
     "name": "stdout",
     "output_type": "stream",
     "text": [
      "Accuracy:\t0.6428571428571429\n",
      "Precision:\t0.7232142857142857\n",
      "Loss:\t\t-1\n",
      "Recall:\t\t0.6428571428571429\n",
      "F1-Score:\t0.6032967032967033\n"
     ]
    }
   ],
   "source": [
    "y_pred = forest_clf.predict(x_test[:, :-1])\n",
    "print(HelperFunctions.get_scores(y_test, y_pred))"
   ]
  },
  {
   "cell_type": "markdown",
   "metadata": {},
   "source": [
    "#### Eigener forest"
   ]
  },
  {
   "cell_type": "code",
   "execution_count": null,
   "metadata": {},
   "outputs": [
    {
     "name": "stdout",
     "output_type": "stream",
     "text": [
      "Class names and indices: {'bottleOpener': 0, 'canOpener': 1, 'corcScrew': 2, 'multiTool': 3}\n",
      "Accuracy:\t0.7142857142857143\n",
      "Precision:\t0.8979591836734694\n",
      "Loss:\t\t-1\n",
      "Recall:\t\t0.7142857142857143\n",
      "F1-Score:\t0.7293650793650793\n"
     ]
    },
    {
     "name": "stderr",
     "output_type": "stream",
     "text": [
      "C:\\Users\\Philipp\\anaconda3\\lib\\site-packages\\sklearn\\metrics\\_classification.py:1245: UndefinedMetricWarning: Recall is ill-defined and being set to 0.0 in labels with no true samples. Use `zero_division` parameter to control this behavior.\n",
      "  _warn_prf(average, modifier, msg_start, len(result))\n"
     ]
    }
   ],
   "source": [
    "df = HelperFunctions.extract_features(os.path.join(\"data\", \"images\", \"test\"))\n",
    "df = HelperFunctions.process_feature_dataframe(df)\n",
    "\n",
    "y_pred = np.array([rf.predict(forest, row) for row in x_test])\n",
    "\n",
    "print(hf.get_scores(y_test, y_pred))"
   ]
  }
 ],
 "metadata": {
  "interpreter": {
   "hash": "5a40cf6a1da29a39ead2ba32911a0c6fce94dd082a7ebb2950da7752aaf1c51d"
  },
  "kernelspec": {
   "display_name": "Python 3.8.8 64-bit ('base': conda)",
   "language": "python",
   "name": "python3"
  },
  "language_info": {
   "codemirror_mode": {
    "name": "ipython",
    "version": 3
   },
   "file_extension": ".py",
   "mimetype": "text/x-python",
   "name": "python",
   "nbconvert_exporter": "python",
   "pygments_lexer": "ipython3",
   "version": "3.8.8"
  },
  "orig_nbformat": 4
 },
 "nbformat": 4,
 "nbformat_minor": 2
}
