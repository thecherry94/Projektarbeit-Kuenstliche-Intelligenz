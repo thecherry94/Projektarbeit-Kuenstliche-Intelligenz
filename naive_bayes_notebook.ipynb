{
 "cells": [
  {
   "cell_type": "markdown",
   "id": "615055b9",
   "metadata": {},
   "source": [
    "# Naive Bayes Classifier"
   ]
  },
  {
   "cell_type": "markdown",
   "id": "77a03229",
   "metadata": {},
   "source": [
    "### Import required modules and libraries"
   ]
  },
  {
   "cell_type": "code",
   "execution_count": 1,
   "id": "a3058695",
   "metadata": {},
   "outputs": [],
   "source": [
    "import os\n",
    "from random import randrange\n",
    "import pandas as pd\n",
    "\n",
    "from sklearn.model_selection import train_test_split\n",
    "\n",
    "import modules.naive_bayes as  nb\n",
    "import HelperFunctions as hf"
   ]
  },
  {
   "cell_type": "markdown",
   "id": "76adfbe3",
   "metadata": {},
   "source": [
    "### Load and prepare data"
   ]
  },
  {
   "cell_type": "code",
   "execution_count": 2,
   "id": "5ebfecb6",
   "metadata": {},
   "outputs": [],
   "source": [
    "df = pd.read_csv(r\"D:\\Dokumente\\GitHub\\Projektarbeit-Kuenstliche-Intelligenz\\data\\features.csv\", sep=';', header=None)\n",
    "df = df.iloc[1:, 3:]\n",
    "df = df.reindex(columns=[4, 5, 6, 7, 3])\n",
    "df = df.apply(pd.to_numeric, errors='coerce')\n",
    "df = df[df.iloc[:, -1] < 3]\n",
    "X = df.iloc[:, :-1]\n",
    "y = df.iloc[:, -1]\n",
    "\n",
    "X_train, X_test, y_train, y_test = train_test_split(X, y, test_size=0.3, random_state=2)\n",
    "\n",
    "train = pd.concat([X_train, y_train], axis = 1)\n",
    "test = pd.concat([X_test, y_test], axis=1)"
   ]
  },
  {
   "cell_type": "markdown",
   "id": "603504d1",
   "metadata": {},
   "source": [
    "### Predictions and Scores with self-implemented Gaussian Naive Bayes method"
   ]
  },
  {
   "cell_type": "code",
   "execution_count": 3,
   "id": "ecc18078",
   "metadata": {},
   "outputs": [
    {
     "name": "stdout",
     "output_type": "stream",
     "text": [
      "Accuracy:\t0.545\n",
      "Precision:\t0.4614444444444444\n",
      "Loss:\t\t-1\n",
      "Recall:\t\t0.545\n",
      "F1-Score:\t0.44140889225209645\n"
     ]
    }
   ],
   "source": [
    "y_pred = nb.predict(X_test, train)\n",
    "\n",
    "print(hf.get_scores(y_test, y_pred))\n",
    "    "
   ]
  },
  {
   "cell_type": "markdown",
   "id": "dabfabf2",
   "metadata": {},
   "source": [
    "### Predictions and Scores with sklearn's Gaussian Naive Bayes method"
   ]
  },
  {
   "cell_type": "code",
   "execution_count": 4,
   "id": "982d8551",
   "metadata": {},
   "outputs": [
    {
     "name": "stdout",
     "output_type": "stream",
     "text": [
      "Accuracy:\t0.545\n",
      "Precision:\t0.4614444444444444\n",
      "Loss:\t\t-1\n",
      "Recall:\t\t0.545\n",
      "F1-Score:\t0.44140889225209645\n"
     ]
    }
   ],
   "source": [
    "from sklearn.naive_bayes import GaussianNB\n",
    "\n",
    "bayes_clf = GaussianNB()\n",
    "bayes_clf.fit(X_train, y_train)\n",
    "\n",
    "y_pred = bayes_clf.predict(X_test)\n",
    "\n",
    "print(hf.get_scores(y_test, y_pred))"
   ]
  }
 ],
 "metadata": {
  "kernelspec": {
   "display_name": "ki1_venv",
   "language": "python",
   "name": "ki1_venv"
  },
  "language_info": {
   "codemirror_mode": {
    "name": "ipython",
    "version": 3
   },
   "file_extension": ".py",
   "mimetype": "text/x-python",
   "name": "python",
   "nbconvert_exporter": "python",
   "pygments_lexer": "ipython3",
   "version": "3.9.9"
  }
 },
 "nbformat": 4,
 "nbformat_minor": 5
}
