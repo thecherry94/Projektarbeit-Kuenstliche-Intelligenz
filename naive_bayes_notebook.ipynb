{
 "cells": [
  {
   "cell_type": "code",
   "execution_count": 2,
   "id": "a3058695",
   "metadata": {},
   "outputs": [],
   "source": [
    "import modules.naive_bayes as  nb\n",
    "import modules.dataframe_management as dm\n",
    "import os\n",
    "from random import randrange\n",
    "import pandas as pd\n",
    "from sklearn.model_selection import train_test_split"
   ]
  },
  {
   "cell_type": "code",
   "execution_count": 4,
   "id": "5ebfecb6",
   "metadata": {},
   "outputs": [
    {
     "name": "stdout",
     "output_type": "stream",
     "text": [
      "<class 'pandas.core.frame.DataFrame'>\n",
      "RangeIndex: 729 entries, 1 to 729\n",
      "Data columns (total 5 columns):\n",
      " #   Column  Non-Null Count  Dtype  \n",
      "---  ------  --------------  -----  \n",
      " 0   4       729 non-null    float64\n",
      " 1   5       729 non-null    float64\n",
      " 2   6       729 non-null    float64\n",
      " 3   7       729 non-null    float64\n",
      " 4   3       729 non-null    float64\n",
      "dtypes: float64(5)\n",
      "memory usage: 28.6 KB\n",
      "None\n"
     ]
    }
   ],
   "source": [
    "df = pd.read_csv(r\"D:\\Dokumente\\GitHub\\Projektarbeit-Kuenstliche-Intelligenz\\data\\features.csv\", sep=';', header=None)\n",
    "df = df.iloc[1:, 3:]\n",
    "df = df.reindex(columns=[4, 5, 6, 7, 3])\n",
    "df = df.apply(pd.to_numeric, errors='coerce')\n",
    "df = df[df.iloc[:, -1] < 3]\n",
    "X = df.iloc[:, :-1]\n",
    "y = df.iloc[:, -1]\n",
    "\n",
    "X_train, X_test, y_train, y_test = train_test_split(X, y, test_size=0.3, random_state=2)\n",
    "\n",
    "train = pd.concat([X_train, y_train], axis = 1)\n",
    "test = pd.concat([X_test, y_test], axis=1)"
   ]
  },
  {
   "cell_type": "code",
   "execution_count": 3,
   "id": "ecc18078",
   "metadata": {},
   "outputs": [
    {
     "name": "stdout",
     "output_type": "stream",
     "text": [
      "Accuracy:  0.545\n"
     ]
    }
   ],
   "source": [
    "msn = dm.get_mean_std_num_per_class(train)\n",
    "\n",
    "results = []\n",
    "runs = 0\n",
    "correct = 0\n",
    "for i in range(len(X_test.index)):\n",
    "    probs = nb.class_probabilities(X_test.iloc[i,:], msn)\n",
    "    prediction = max(probs, key=probs.get) \n",
    "    runs += 1\n",
    "    expected = y_test.iloc[i]\n",
    "    if expected == prediction:\n",
    "        correct +=1\n",
    "\n",
    "print(\"Accuracy: \", correct/runs)\n",
    "    "
   ]
  },
  {
   "cell_type": "code",
   "execution_count": 4,
   "id": "ce1ad070",
   "metadata": {},
   "outputs": [],
   "source": [
    "from sklearn.naive_bayes import GaussianNB"
   ]
  },
  {
   "cell_type": "code",
   "execution_count": 5,
   "id": "982d8551",
   "metadata": {},
   "outputs": [
    {
     "name": "stdout",
     "output_type": "stream",
     "text": [
      "Accuracy Bayes:  0.545\n"
     ]
    }
   ],
   "source": [
    "bayes_clf = GaussianNB()\n",
    "bayes_clf.fit(X_train, y_train)\n",
    "\n",
    "print('Accuracy Bayes: ', bayes_clf.score(X_test, y_test))"
   ]
  }
 ],
 "metadata": {
  "kernelspec": {
   "display_name": "ki1_venv",
   "language": "python",
   "name": "ki1_venv"
  },
  "language_info": {
   "codemirror_mode": {
    "name": "ipython",
    "version": 3
   },
   "file_extension": ".py",
   "mimetype": "text/x-python",
   "name": "python",
   "nbconvert_exporter": "python",
   "pygments_lexer": "ipython3",
   "version": "3.9.9"
  }
 },
 "nbformat": 4,
 "nbformat_minor": 5
}
