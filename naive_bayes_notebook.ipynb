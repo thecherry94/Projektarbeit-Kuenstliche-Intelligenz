{
 "cells": [
  {
   "cell_type": "code",
   "execution_count": 1,
   "id": "a3058695",
   "metadata": {},
   "outputs": [],
   "source": [
    "import modules.naive_bayes as  nb\n",
    "import modules.dataframe_management as dm\n",
    "import os\n",
    "from random import randrange\n",
    "import pandas as pd"
   ]
  },
  {
   "cell_type": "code",
   "execution_count": 3,
   "id": "ecc18078",
   "metadata": {},
   "outputs": [
    {
     "name": "stdout",
     "output_type": "stream",
     "text": [
      "0.5240963855421686\n"
     ]
    }
   ],
   "source": [
    "df = pd.read_csv(r\"D:\\Dokumente\\GitHub\\ai-assignment\\data\\features.csv\", sep=';', header=None)\n",
    "df = df.iloc[1:, 3:]\n",
    "df = df.reindex(columns=[4, 5, 6, 7, 3])\n",
    "df = df.apply(pd.to_numeric, errors='coerce')\n",
    "df = df[df.iloc[:, -1] < 3]\n",
    "df = df.sample(frac=1)\n",
    "\n",
    "test = df.to_numpy(dtype=\"float32\")\n",
    "\n",
    "\n",
    "for i in range(len(df.index)):\n",
    "    probs = nb.class_probabilities(df.iloc[i, :-1], msn)\n",
    "    prediction = classes[max(probs, key=probs.get)]\n",
    "    \n",
    "results = []\n",
    "runs = 0\n",
    "correct = 0\n",
    "for i in range(len(df.index)):\n",
    "    probs = nb.class_probabilities(df.iloc[i, :-1], msn)\n",
    "    prediction = max(probs, key=probs.get)    \n",
    "    runs += 1\n",
    "    expected = df.iloc[i, -1]\n",
    "\n",
    "    if expected == prediction:\n",
    "        correct +=1\n",
    "\n",
    "print(correct/runs)\n",
    "    "
   ]
  },
  {
   "cell_type": "code",
   "execution_count": 4,
   "id": "ce1ad070",
   "metadata": {},
   "outputs": [],
   "source": [
    "from sklearn.naive_bayes import GaussianNB"
   ]
  },
  {
   "cell_type": "code",
   "execution_count": 6,
   "id": "982d8551",
   "metadata": {},
   "outputs": [
    {
     "name": "stdout",
     "output_type": "stream",
     "text": [
      "Accuracy Bayes:  0.5240963855421686\n"
     ]
    }
   ],
   "source": [
    "X_test = df.iloc[:, :-1]\n",
    "y_test = df.iloc[:, -1]\n",
    "\n",
    "bayes_clf = GaussianNB()\n",
    "bayes_clf.fit(X_train, y_train) # wende Klassifikator auf Trainingsdaten an\n",
    "\n",
    "print('Accuracy Bayes: ', bayes_clf.score(X_test, y_test))"
   ]
  },
  {
   "cell_type": "code",
   "execution_count": null,
   "id": "17275347",
   "metadata": {},
   "outputs": [],
   "source": []
  }
 ],
 "metadata": {
  "kernelspec": {
   "display_name": "ki1_venv",
   "language": "python",
   "name": "ki1_venv"
  },
  "language_info": {
   "codemirror_mode": {
    "name": "ipython",
    "version": 3
   },
   "file_extension": ".py",
   "mimetype": "text/x-python",
   "name": "python",
   "nbconvert_exporter": "python",
   "pygments_lexer": "ipython3",
   "version": "3.9.9"
  }
 },
 "nbformat": 4,
 "nbformat_minor": 5
}
