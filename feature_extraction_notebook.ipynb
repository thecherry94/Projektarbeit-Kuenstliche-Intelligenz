{
 "cells": [
  {
   "cell_type": "markdown",
   "id": "c741b716",
   "metadata": {},
   "source": [
    "# Feature Extraction\n",
    "\n",
    "This notebook extracts the following features from images and saves them in a csv file:\n",
    "* The outer contour's aspect ratio\n",
    "* Number of corners detected via Harris Corner Detection\n",
    "* Number of corners detected via Shi-Tomasi Corner Detection\n",
    "* The outer contour's perimeter-area ratio"
   ]
  },
  {
   "cell_type": "markdown",
   "id": "a78befe3",
   "metadata": {},
   "source": [
    "### Required Imports"
   ]
  },
  {
   "cell_type": "code",
   "execution_count": 1,
   "id": "0cdc04eb",
   "metadata": {},
   "outputs": [],
   "source": [
    "# Import external libraries.\n",
    "import os\n",
    "import pandas\n",
    "import cv2\n",
    "import numpy as np\n",
    "\n",
    "# Import self-written modules.\n",
    "import modules.feature_extraction as fe"
   ]
  },
  {
   "cell_type": "markdown",
   "id": "64306ccf",
   "metadata": {},
   "source": [
    "### Specify Paths for Loading and Saving Data"
   ]
  },
  {
   "cell_type": "code",
   "execution_count": 2,
   "id": "30b4f80e",
   "metadata": {},
   "outputs": [],
   "source": [
    "rel_imgpath = os.path.join(\"data\", \"images\", \"original\")\n",
    "csvpath = os.path.join(\"data\",\"features.csv\")"
   ]
  },
  {
   "cell_type": "markdown",
   "id": "c5548b51",
   "metadata": {},
   "source": [
    "### Select the Images, Class Names and Class Indices to Be Used"
   ]
  },
  {
   "cell_type": "code",
   "execution_count": 3,
   "id": "69830fa7",
   "metadata": {},
   "outputs": [
    {
     "name": "stdout",
     "output_type": "stream",
     "text": [
      "Found 729 images.\n",
      "Class names and corresponding indices: {'bottleOpener': 0, 'canOpener': 1, 'corcScrew': 2, 'multiTool': 3}\n"
     ]
    }
   ],
   "source": [
    "imgpaths = []\n",
    "for dirpath, dirnames, filenames in os.walk(rel_imgpath):\n",
    "    if dirnames:\n",
    "        classes = {}\n",
    "        for index, name in enumerate(dirnames):\n",
    "            classes[name]=index\n",
    "    for filename in filenames:\n",
    "        imgpaths.append(os.path.join(dirpath, filename))\n",
    "\n",
    "print(f\"Found {len(imgpaths)} images.\")\n",
    "print(\"Class names and corresponding indices:\", classes)"
   ]
  },
  {
   "cell_type": "markdown",
   "id": "df026cb4",
   "metadata": {},
   "source": [
    "### Extract the Features"
   ]
  },
  {
   "cell_type": "code",
   "execution_count": 4,
   "id": "7dee5cc8",
   "metadata": {},
   "outputs": [
    {
     "name": "stdout",
     "output_type": "stream",
     "text": [
      "----- Information on the feature dataframe: ----------------------\n",
      "<class 'pandas.core.frame.DataFrame'>\n",
      "RangeIndex: 729 entries, 0 to 728\n",
      "Data columns (total 7 columns):\n",
      " #   Column                          Non-Null Count  Dtype  \n",
      "---  ------                          --------------  -----  \n",
      " 0   Relative Image Path             729 non-null    object \n",
      " 1   Class Name                      729 non-null    object \n",
      " 2   Class Index                     729 non-null    float64\n",
      " 3   Aspect Ratio                    729 non-null    float64\n",
      " 4   Number of Corners (Harris)      729 non-null    float64\n",
      " 5   Number of Corners (Shi-Tomasi)  729 non-null    float64\n",
      " 6   Perimeter Area Ratio            729 non-null    float64\n",
      "dtypes: float64(5), object(2)\n",
      "memory usage: 40.0+ KB\n",
      "------------------------------------------------------------------\n"
     ]
    }
   ],
   "source": [
    "features = [\"Relative Image Path\",\n",
    "           \"Class Name\",\n",
    "           \"Class Index\",\n",
    "           \"Aspect Ratio\",\n",
    "           \"Number of Corners (Harris)\",\n",
    "           \"Number of Corners (Shi-Tomasi)\",\n",
    "           \"Perimeter Area Ratio\"]\n",
    "\n",
    "df = pandas.DataFrame(columns=features)\n",
    "\n",
    "show_img = len(imgpaths)//3 \n",
    "imgs2show = [\"original\", \"prepared\", \"canny\", \"canny closed gaps\", \"contours\", \"max area contour\", \"harris\", \"shi-tomasi\"]\n",
    "\n",
    "for i, path in enumerate(imgpaths):\n",
    "    c = path.split(os.sep)[-2]\n",
    "    img = fe.prepared_image(path)\n",
    "    \n",
    "    row = []\n",
    "    row.append(path)\n",
    "    row.append(c) \n",
    "    row.append(float(classes[c]))\n",
    "    row.append(fe.aspect_ratio(img)) \n",
    "    row.append(float(fe.num_corners(img, detector=\"harris\")))\n",
    "    row.append(float(fe.num_corners(img, detector=\"shi-tomasi\")))\n",
    "    row.append(fe.perimeter_area_ratio(img))\n",
    "    \n",
    "    row = pandas.Series(row, index=features)\n",
    "    df = df.append(row, ignore_index=True)\n",
    "    \n",
    "    print(str(format((100./len(imgpaths))*i, \".2f\"))+\" %\", end=\"\\r\")\n",
    "    \n",
    "    if not i%show_img:\n",
    "        for img_name in imgs2show[:-1]:\n",
    "            fe.display_image(fe.images[img_name], title=img_name, destroy=False)\n",
    "        fe.display_image(fe.images[imgs2show[-1]], title=imgs2show[-1])\n",
    "\n",
    "\n",
    "print(\"----- Information on the feature dataframe: ----------------------\")\n",
    "df.info()\n",
    "print(\"------------------------------------------------------------------\")"
   ]
  },
  {
   "cell_type": "markdown",
   "id": "5ec14ced",
   "metadata": {},
   "source": [
    "### Save Data as CSV File"
   ]
  },
  {
   "cell_type": "code",
   "execution_count": 5,
   "id": "a1e06c4b",
   "metadata": {},
   "outputs": [],
   "source": [
    "df.to_csv(csvpath,';')"
   ]
  },
  {
   "cell_type": "code",
   "execution_count": null,
   "id": "ac5a0318",
   "metadata": {},
   "outputs": [],
   "source": []
  }
 ],
 "metadata": {
  "kernelspec": {
   "display_name": "ki1_venv",
   "language": "python",
   "name": "ki1_venv"
  },
  "language_info": {
   "codemirror_mode": {
    "name": "ipython",
    "version": 3
   },
   "file_extension": ".py",
   "mimetype": "text/x-python",
   "name": "python",
   "nbconvert_exporter": "python",
   "pygments_lexer": "ipython3",
   "version": "3.9.9"
  }
 },
 "nbformat": 4,
 "nbformat_minor": 5
}
