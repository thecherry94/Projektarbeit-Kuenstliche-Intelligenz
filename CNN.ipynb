{
 "cells": [
  {
   "cell_type": "code",
   "execution_count": 1,
   "metadata": {},
   "outputs": [],
   "source": [
    "import tensorflow as tf\n",
    "import os\n",
    "import cv2\n",
    "import numpy as np\n",
    "\n",
    "from tensorflow.keras import datasets, layers, models\n",
    "import matplotlib.pyplot as plt"
   ]
  },
  {
   "cell_type": "code",
   "execution_count": 2,
   "metadata": {},
   "outputs": [],
   "source": [
    "# Bilder laden\n",
    "\n",
    "#dataset = datasets.cifar10.load_data()\n",
    "#(train_images, train_labels), (test_images, test_labels) = datasets.cifar10.load_data()\n"
   ]
  },
  {
   "cell_type": "code",
   "execution_count": 3,
   "metadata": {},
   "outputs": [],
   "source": [
    "\n",
    "images, labels = [], []\n",
    "\n",
    "relImgPath = os.path.join(\"data\", \"images\", \"augmented\")\n",
    "imgPaths = []\n",
    "for dirpath, dirnames, filenames in os.walk(relImgPath):\n",
    "    if dirnames:\n",
    "        classes = {}\n",
    "        for index, name in enumerate(dirnames):\n",
    "            classes[name]=index\n",
    "    for filename in filenames:# [f for f in \n",
    "        path = os.path.join(dirpath, filename)\n",
    "        key = dirpath[dirpath.rindex('\\\\')+1:]\n",
    "        images.append(cv2.imread(path, cv2.COLOR_BGR2RGB))\n",
    "        labels.append(classes[key])"
   ]
  },
  {
   "cell_type": "code",
   "execution_count": 4,
   "metadata": {},
   "outputs": [],
   "source": [
    "ratio = 0.8\n",
    "\n",
    "images = np.array(images)\n",
    "labels = np.array(labels)\n",
    "\n",
    "train_images, train_labels = images[:int(len(images)*ratio)], labels[:int(len(images)*ratio)]\n",
    "test_images, test_labels = images[int(len(images)*ratio):], labels[int(len(images)*ratio):]"
   ]
  },
  {
   "cell_type": "code",
   "execution_count": 5,
   "metadata": {},
   "outputs": [],
   "source": [
    "model = models.Sequential()\n",
    "model.add(layers.Conv2D(32, (3, 3), activation='relu', input_shape=(256, 256, 3)))\n",
    "model.add(layers.MaxPooling2D((2, 2)))\n",
    "model.add(layers.Conv2D(64, (3, 3), activation='relu'))\n",
    "model.add(layers.MaxPooling2D((2, 2)))\n",
    "model.add(layers.Conv2D(64, (3, 3), activation='relu'))\n",
    "\n",
    "model.add(layers.Flatten())\n",
    "model.add(layers.Dense(64, activation='relu'))\n",
    "model.add(layers.Dense(4))"
   ]
  },
  {
   "cell_type": "code",
   "execution_count": 6,
   "metadata": {},
   "outputs": [
    {
     "name": "stdout",
     "output_type": "stream",
     "text": [
      "Model: \"sequential\"\n",
      "_________________________________________________________________\n",
      "Layer (type)                 Output Shape              Param #   \n",
      "=================================================================\n",
      "conv2d (Conv2D)              (None, 254, 254, 32)      896       \n",
      "_________________________________________________________________\n",
      "max_pooling2d (MaxPooling2D) (None, 127, 127, 32)      0         \n",
      "_________________________________________________________________\n",
      "conv2d_1 (Conv2D)            (None, 125, 125, 64)      18496     \n",
      "_________________________________________________________________\n",
      "max_pooling2d_1 (MaxPooling2 (None, 62, 62, 64)        0         \n",
      "_________________________________________________________________\n",
      "conv2d_2 (Conv2D)            (None, 60, 60, 64)        36928     \n",
      "_________________________________________________________________\n",
      "flatten (Flatten)            (None, 230400)            0         \n",
      "_________________________________________________________________\n",
      "dense (Dense)                (None, 64)                14745664  \n",
      "_________________________________________________________________\n",
      "dense_1 (Dense)              (None, 4)                 260       \n",
      "=================================================================\n",
      "Total params: 14,802,244\n",
      "Trainable params: 14,802,244\n",
      "Non-trainable params: 0\n",
      "_________________________________________________________________\n"
     ]
    }
   ],
   "source": [
    "model.summary()"
   ]
  },
  {
   "cell_type": "code",
   "execution_count": 7,
   "metadata": {},
   "outputs": [
    {
     "name": "stdout",
     "output_type": "stream",
     "text": [
      "Epoch 1/10\n",
      "493/493 [==============================] - 446s 905ms/step - loss: 7.3473 - accuracy: 0.5857 - val_loss: 4.0001 - val_accuracy: 0.0000e+00\n",
      "Epoch 2/10\n",
      "493/493 [==============================] - 433s 878ms/step - loss: 0.8202 - accuracy: 0.6134 - val_loss: 4.6318 - val_accuracy: 0.0000e+00\n",
      "Epoch 3/10\n",
      "493/493 [==============================] - 433s 878ms/step - loss: 0.7175 - accuracy: 0.6908 - val_loss: 6.6792 - val_accuracy: 0.0117\n",
      "Epoch 4/10\n",
      "493/493 [==============================] - 433s 878ms/step - loss: 0.5968 - accuracy: 0.7585 - val_loss: 9.2854 - val_accuracy: 0.0274\n",
      "Epoch 5/10\n",
      "493/493 [==============================] - 431s 874ms/step - loss: 0.4812 - accuracy: 0.8102 - val_loss: 11.8371 - val_accuracy: 0.0312\n",
      "Epoch 6/10\n",
      "493/493 [==============================] - 430s 873ms/step - loss: 0.4040 - accuracy: 0.8420 - val_loss: 17.2559 - val_accuracy: 0.0457\n",
      "Epoch 7/10\n",
      "493/493 [==============================] - 430s 872ms/step - loss: 0.3673 - accuracy: 0.8581 - val_loss: 16.7953 - val_accuracy: 0.0526\n",
      "Epoch 8/10\n",
      "493/493 [==============================] - 430s 872ms/step - loss: 0.3207 - accuracy: 0.8761 - val_loss: 17.4203 - val_accuracy: 0.0513\n",
      "Epoch 9/10\n",
      "493/493 [==============================] - 431s 874ms/step - loss: 0.2753 - accuracy: 0.8945 - val_loss: 22.7834 - val_accuracy: 0.0615\n",
      "Epoch 10/10\n",
      "493/493 [==============================] - 427s 866ms/step - loss: 0.2696 - accuracy: 0.8970 - val_loss: 26.6187 - val_accuracy: 0.0681\n"
     ]
    }
   ],
   "source": [
    "model.compile(optimizer='adam',\n",
    "              loss=tf.keras.losses.SparseCategoricalCrossentropy(from_logits=True),\n",
    "              metrics=['accuracy'])\n",
    "\n",
    "history = model.fit(train_images, train_labels, epochs=10, batch_size=32,\n",
    "                    validation_data=(test_images, test_labels))"
   ]
  },
  {
   "cell_type": "code",
   "execution_count": 8,
   "metadata": {},
   "outputs": [
    {
     "name": "stdout",
     "output_type": "stream",
     "text": [
      "124/124 - 23s - loss: 26.6187 - accuracy: 0.0681\n"
     ]
    },
    {
     "data": {
      "image/png": "[encoded data removed]",
      "text/plain": [
       "<Figure size 432x288 with 1 Axes>"
      ]
     },
     "metadata": {
      "needs_background": "light"
     },
     "output_type": "display_data"
    }
   ],
   "source": [
    "plt.plot(history.history['accuracy'], label='accuracy')\n",
    "plt.plot(history.history['val_accuracy'], label = 'val_accuracy')\n",
    "plt.xlabel('Epoch')\n",
    "plt.ylabel('Accuracy')\n",
    "plt.ylim([0.5, 1])\n",
    "plt.legend(loc='lower right')\n",
    "\n",
    "test_loss, test_acc = model.evaluate(test_images,  test_labels, verbose=2)"
   ]
  },
  {
   "cell_type": "code",
   "execution_count": 9,
   "metadata": {},
   "outputs": [
    {
     "name": "stdout",
     "output_type": "stream",
     "text": [
      "0.0680721327662468\n"
     ]
    }
   ],
   "source": [
    "print(test_acc)"
   ]
  },
  {
   "cell_type": "code",
   "execution_count": 10,
   "metadata": {},
   "outputs": [
    {
     "name": "stdout",
     "output_type": "stream",
     "text": [
      "WARNING:tensorflow:From C:\\Users\\Philipp\\anaconda3\\lib\\site-packages\\tensorflow\\python\\training\\tracking\\tracking.py:111: Model.state_updates (from tensorflow.python.keras.engine.training) is deprecated and will be removed in a future version.\n",
      "Instructions for updating:\n",
      "This property should not be used in TensorFlow 2.0, as updates are applied automatically.\n",
      "WARNING:tensorflow:From C:\\Users\\Philipp\\anaconda3\\lib\\site-packages\\tensorflow\\python\\training\\tracking\\tracking.py:111: Layer.updates (from tensorflow.python.keras.engine.base_layer) is deprecated and will be removed in a future version.\n",
      "Instructions for updating:\n",
      "This property should not be used in TensorFlow 2.0, as updates are applied automatically.\n",
      "INFO:tensorflow:Assets written to: models/test\\assets\n"
     ]
    }
   ],
   "source": [
    "model.save('models/test')"
   ]
  }
 ],
 "metadata": {
  "interpreter": {
   "hash": "5a40cf6a1da29a39ead2ba32911a0c6fce94dd082a7ebb2950da7752aaf1c51d"
  },
  "kernelspec": {
   "display_name": "Python 3.8.8 64-bit ('base': conda)",
   "language": "python",
   "name": "python3"
  },
  "language_info": {
   "codemirror_mode": {
    "name": "ipython",
    "version": 3
   },
   "file_extension": ".py",
   "mimetype": "text/x-python",
   "name": "python",
   "nbconvert_exporter": "python",
   "pygments_lexer": "ipython3",
   "version": "3.8.8"
  },
  "orig_nbformat": 4
 },
 "nbformat": 4,
 "nbformat_minor": 2
}
