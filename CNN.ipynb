{
 "cells": [
  {
   "cell_type": "code",
   "execution_count": 1,
   "metadata": {},
   "outputs": [],
   "source": [
    "import tensorflow as tf\n",
    "import os\n",
    "import cv2\n",
    "import numpy as np\n",
    "import random as rnd\n",
    "\n",
    "from tensorflow.keras import datasets, layers, models\n",
    "import matplotlib.pyplot as plt"
   ]
  },
  {
   "cell_type": "code",
   "execution_count": 2,
   "metadata": {},
   "outputs": [],
   "source": [
    "image_dim = 64"
   ]
  },
  {
   "cell_type": "code",
   "execution_count": 3,
   "metadata": {},
   "outputs": [],
   "source": [
    "original = np.load(r'data/images/augmented/original.npy', allow_pickle=True)\n",
    "\n",
    "original_images = []\n",
    "original_labels = []\n",
    "\n",
    "for idx, d in enumerate(original):\n",
    "    original_images.extend(d)\n",
    "    for e in d:\n",
    "        original_labels.append([idx])\n",
    "\n",
    "original_images = np.array(original_images)\n",
    "original_labels = np.array(original_labels)\n",
    "\n",
    "p = np.random.permutation(len(original_images))\n",
    "original_images = original_images[p]\n",
    "original_labels = original_labels[p]"
   ]
  },
  {
   "cell_type": "code",
   "execution_count": 4,
   "metadata": {},
   "outputs": [],
   "source": [
    "dataset = np.load(r'data/images/augmented/augmentation.npy', allow_pickle=True)\n",
    "\n",
    "images = []\n",
    "labels = []\n",
    "\n",
    "for idx, d in enumerate(dataset):\n",
    "    images.extend(d)\n",
    "    for e in d:\n",
    "        labels.append([idx])"
   ]
  },
  {
   "cell_type": "code",
   "execution_count": 5,
   "metadata": {},
   "outputs": [],
   "source": [
    "images = np.array(images)\n",
    "labels = np.array(labels)"
   ]
  },
  {
   "cell_type": "code",
   "execution_count": 6,
   "metadata": {},
   "outputs": [],
   "source": [
    "p = np.random.permutation(len(images))\n",
    "images = images[p]\n",
    "labels = labels[p]"
   ]
  },
  {
   "cell_type": "code",
   "execution_count": 7,
   "metadata": {},
   "outputs": [],
   "source": [
    "ratio = 1\n",
    "\n",
    "train_images, train_labels = images[:int(len(images)*ratio)], labels[:int(len(images)*ratio)]\n",
    "test_images, test_labels = images[int(len(images)*ratio):], labels[int(len(images)*ratio):]"
   ]
  },
  {
   "cell_type": "code",
   "execution_count": 8,
   "metadata": {},
   "outputs": [],
   "source": [
    "model = models.Sequential()\n",
    "model.add(layers.Conv2D(32, (3, 3), activation='relu', input_shape=(image_dim, image_dim, 3)))\n",
    "model.add(layers.MaxPooling2D((2, 2)))\n",
    "model.add(layers.Conv2D(64, (3, 3), activation='relu'))\n",
    "model.add(layers.MaxPooling2D((2, 2)))\n",
    "model.add(layers.Conv2D(128, (2, 2), activation='relu'))\n",
    "\n",
    "model.add(layers.Flatten())\n",
    "model.add(layers.Dense(128, activation='relu'))\n",
    "model.add(layers.Dense(4))"
   ]
  },
  {
   "cell_type": "code",
   "execution_count": 9,
   "metadata": {},
   "outputs": [
    {
     "name": "stdout",
     "output_type": "stream",
     "text": [
      "Model: \"sequential\"\n",
      "_________________________________________________________________\n",
      "Layer (type)                 Output Shape              Param #   \n",
      "=================================================================\n",
      "conv2d (Conv2D)              (None, 62, 62, 32)        896       \n",
      "_________________________________________________________________\n",
      "max_pooling2d (MaxPooling2D) (None, 31, 31, 32)        0         \n",
      "_________________________________________________________________\n",
      "conv2d_1 (Conv2D)            (None, 29, 29, 64)        18496     \n",
      "_________________________________________________________________\n",
      "max_pooling2d_1 (MaxPooling2 (None, 14, 14, 64)        0         \n",
      "_________________________________________________________________\n",
      "conv2d_2 (Conv2D)            (None, 13, 13, 128)       32896     \n",
      "_________________________________________________________________\n",
      "flatten (Flatten)            (None, 21632)             0         \n",
      "_________________________________________________________________\n",
      "dense (Dense)                (None, 128)               2769024   \n",
      "_________________________________________________________________\n",
      "dense_1 (Dense)              (None, 4)                 516       \n",
      "=================================================================\n",
      "Total params: 2,821,828\n",
      "Trainable params: 2,821,828\n",
      "Non-trainable params: 0\n",
      "_________________________________________________________________\n"
     ]
    }
   ],
   "source": [
    "model.summary()"
   ]
  },
  {
   "cell_type": "code",
   "execution_count": 10,
   "metadata": {},
   "outputs": [
    {
     "name": "stdout",
     "output_type": "stream",
     "text": [
      "Epoch 1/8\n",
      "12499/12499 [==============================] - 654s 52ms/step - loss: 0.9042 - accuracy: 0.6964 - val_loss: 0.5956 - val_accuracy: 0.7792\n",
      "Epoch 2/8\n",
      " 1153/12499 [=>............................] - ETA: 7:52 - loss: 0.6014 - accuracy: 0.7762"
     ]
    }
   ],
   "source": [
    "model.compile(optimizer='adam',\n",
    "              loss=tf.keras.losses.SparseCategoricalCrossentropy(from_logits=True),\n",
    "              metrics=['accuracy'])\n",
    "\n",
    "history = model.fit(train_images, train_labels, epochs=8, batch_size=32, shuffle=True, use_multiprocessing=False,\n",
    "                    validation_data=(original_images, original_labels), validation_split=0.5)"
   ]
  },
  {
   "cell_type": "code",
   "execution_count": null,
   "metadata": {},
   "outputs": [],
   "source": [
    "plt.plot(history.history['accuracy'], label='accuracy')\n",
    "plt.plot(history.history['val_accuracy'], label = 'val_accuracy')\n",
    "plt.xlabel('Epoch')\n",
    "plt.ylabel('Accuracy')\n",
    "plt.ylim([0.5, 1])\n",
    "plt.legend(loc='lower right')\n",
    "\n",
    "test_loss, test_acc = model.evaluate(test_images, test_labels, verbose=2)"
   ]
  },
  {
   "cell_type": "code",
   "execution_count": null,
   "metadata": {},
   "outputs": [],
   "source": [
    "print(test_acc)"
   ]
  },
  {
   "cell_type": "code",
   "execution_count": null,
   "metadata": {},
   "outputs": [],
   "source": [
    "class_names = ['Bottle opener', 'Can opener', 'Cork screw', 'Multitool']\n",
    "start = rnd.randint(0, len(test_images) - 25)\n",
    "\n",
    "preds = model.predict(test_images[start:start+25])\n",
    "index_max = []\n",
    "for pred in preds:\n",
    "    index_max.append(np.argmax(pred))\n",
    "\n",
    "fig = plt.figure(figsize=(10, 10))\n",
    "fig.patch.set_facecolor('xkcd:mint green')\n",
    "for i in range(25):\n",
    "    plt.subplot(5, 5, i+1)\n",
    "    plt.xticks([])\n",
    "    plt.yticks([])\n",
    "    plt.grid(False)\n",
    "    plt.imshow(test_images[i+start])\n",
    "    plt.tight_layout()\n",
    "    plt.xlabel(\n",
    "        'Actual: ' + class_names[test_labels[i+start][0]] +\n",
    "        '\\nPredicted: ' + class_names[index_max[i]])"
   ]
  },
  {
   "cell_type": "code",
   "execution_count": null,
   "metadata": {},
   "outputs": [],
   "source": [
    "#model.save('models/v2')"
   ]
  },
  {
   "cell_type": "code",
   "execution_count": null,
   "metadata": {},
   "outputs": [],
   "source": [
    "#model = tf.keras.models.load_model('models/v2')"
   ]
  },
  {
   "cell_type": "code",
   "execution_count": null,
   "metadata": {},
   "outputs": [],
   "source": [
    "test_loss, test_acc = model.evaluate(original_images, original_labels, verbose=1)"
   ]
  },
  {
   "cell_type": "code",
   "execution_count": null,
   "metadata": {},
   "outputs": [],
   "source": [
    "class_names = ['Bottle opener', 'Can opener', 'Cork screw', 'Multitool']\n",
    "start = rnd.randint(0, len(original_images) - 25)\n",
    "\n",
    "preds = model.predict(original_images[start:start+25])\n",
    "index_max = []\n",
    "for pred in preds:\n",
    "    index_max.append(np.argmax(pred))\n",
    "\n",
    "fig = plt.figure(figsize=(10, 10))\n",
    "fig.patch.set_facecolor('xkcd:mint green')\n",
    "for i in range(25):\n",
    "    plt.subplot(5, 5, i+1)\n",
    "    plt.xticks([])\n",
    "    plt.yticks([])\n",
    "    plt.grid(False)\n",
    "    plt.imshow(original_images[i+start])\n",
    "    plt.tight_layout()\n",
    "    plt.xlabel(\n",
    "        'Actual: ' + class_names[original_labels[i+start][0]] +\n",
    "        '\\nPredicted: ' + class_names[index_max[i]])"
   ]
  },
  {
   "cell_type": "code",
   "execution_count": null,
   "metadata": {},
   "outputs": [],
   "source": [
    "from DataAugmentation import resizeAndPad, rotations\n",
    "import cv2\n",
    "\n",
    "class_names = ['Bottle opener', 'Can opener', 'Cork screw', 'Multitool']\n",
    "file_actual = cv2.imread(r'data/test/test11.jpg', cv2.COLOR_BGR2RGB)\n",
    "files = rotations(resizeAndPad(file_actual, (image_dim, image_dim)), 100)\n",
    "\n",
    "prediction = model.predict(np.array(files))\n",
    "index_max = np.bincount(np.array([np.argmax(pred) for pred in prediction])).argmax()\n",
    "\n",
    "plt.figure(figsize=(10, 10))\n",
    "plt.grid(False)\n",
    "plt.subplot(2, 2, 1)\n",
    "plt.imshow(file_actual)\n",
    "plt.subplot(2, 2, 2)\n",
    "plt.imshow(files[0])\n",
    "\n",
    "print ('Is your specified object a \"{}\"?'.format(class_names[index_max]))"
   ]
  },
  {
   "cell_type": "code",
   "execution_count": null,
   "metadata": {},
   "outputs": [],
   "source": [
    "prediction"
   ]
  },
  {
   "cell_type": "code",
   "execution_count": null,
   "metadata": {},
   "outputs": [],
   "source": [
    "index_max"
   ]
  }
 ],
 "metadata": {
  "interpreter": {
   "hash": "5a40cf6a1da29a39ead2ba32911a0c6fce94dd082a7ebb2950da7752aaf1c51d"
  },
  "kernelspec": {
   "display_name": "Python 3.8.8 64-bit ('base': conda)",
   "language": "python",
   "name": "python3"
  },
  "language_info": {
   "codemirror_mode": {
    "name": "ipython",
    "version": 3
   },
   "file_extension": ".py",
   "mimetype": "text/x-python",
   "name": "python",
   "nbconvert_exporter": "python",
   "pygments_lexer": "ipython3",
   "version": "3.8.8"
  },
  "orig_nbformat": 4
 },
 "nbformat": 4,
 "nbformat_minor": 2
}
