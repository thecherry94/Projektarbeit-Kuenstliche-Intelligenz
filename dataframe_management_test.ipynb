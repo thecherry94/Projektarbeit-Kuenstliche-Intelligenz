{
 "cells": [
  {
   "cell_type": "code",
   "execution_count": 1,
   "id": "ce5ded5c",
   "metadata": {},
   "outputs": [
    {
     "name": "stdout",
     "output_type": "stream",
     "text": [
      "351\n",
      "------------------------------------------\n",
      "203\n",
      "------------------------------------------\n",
      "110\n",
      "------------------------------------------\n",
      "65\n",
      "------------------------------------------\n"
     ]
    },
    {
     "name": "stderr",
     "output_type": "stream",
     "text": [
      "D:\\Dokumente\\GitHub\\ai-assignment\\modules\\dataframe_management.py:24: FutureWarning: Dropping of nuisance columns in DataFrame reductions (with 'numeric_only=None') is deprecated; in a future version this will raise TypeError.  Select only valid columns before calling the reduction.\n",
      "  return (df.mean(), df.std(), len(df.index))\n"
     ]
    }
   ],
   "source": [
    "import modules.dataframe_management"
   ]
  },
  {
   "cell_type": "code",
   "execution_count": null,
   "id": "084daa6b",
   "metadata": {},
   "outputs": [],
   "source": []
  },
  {
   "cell_type": "code",
   "execution_count": null,
   "id": "aa3cd903",
   "metadata": {},
   "outputs": [],
   "source": []
  }
 ],
 "metadata": {
  "kernelspec": {
   "display_name": "ki1_venv",
   "language": "python",
   "name": "ki1_venv"
  },
  "language_info": {
   "codemirror_mode": {
    "name": "ipython",
    "version": 3
   },
   "file_extension": ".py",
   "mimetype": "text/x-python",
   "name": "python",
   "nbconvert_exporter": "python",
   "pygments_lexer": "ipython3",
   "version": "3.9.9"
  }
 },
 "nbformat": 4,
 "nbformat_minor": 5
}
