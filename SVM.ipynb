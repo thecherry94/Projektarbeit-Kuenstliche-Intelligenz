{
 "cells": [
  {
   "cell_type": "code",
   "execution_count": 1,
   "metadata": {},
   "outputs": [],
   "source": [
    "import numpy as np\n",
    "import os\n",
    "from sklearn.pipeline import make_pipeline\n",
    "from sklearn.preprocessing import StandardScaler\n",
    "from sklearn.svm import SVC, LinearSVC\n",
    "from sklearn.preprocessing import MinMaxScaler, RobustScaler, scale\n",
    "from sklearn.model_selection import train_test_split\n",
    "from sklearn.metrics import f1_score, accuracy_score, precision_score, recall_score\n",
    "import pandas as pd\n",
    "import modules.feature_extraction as fe\n",
    "import HelperFunctions as hf"
   ]
  },
  {
   "cell_type": "markdown",
   "metadata": {},
   "source": [
    "#### Features aus csv lesen"
   ]
  },
  {
   "cell_type": "code",
   "execution_count": 2,
   "metadata": {},
   "outputs": [],
   "source": [
    "df = pd.read_csv(r\"data\\features.csv\", sep=';', header=None)\n",
    "df = df.iloc[1:, 3:]\n",
    "df = df.reindex(columns=[4, 5, 6, 7, 3])\n",
    "df = df.apply(pd.to_numeric, errors='coerce')\n",
    "df = df[df.iloc[:, -1] < 3]\n",
    "df = df.sample(frac=1)"
   ]
  },
  {
   "cell_type": "markdown",
   "metadata": {},
   "source": [
    "#### x y Werte zum Trainieren trennen"
   ]
  },
  {
   "cell_type": "code",
   "execution_count": 3,
   "metadata": {},
   "outputs": [],
   "source": [
    "x = df.iloc[:, :-1]\n",
    "y = df.iloc[:, -1]"
   ]
  },
  {
   "cell_type": "markdown",
   "metadata": {},
   "source": [
    "#### Train / Test Daten trennen"
   ]
  },
  {
   "cell_type": "code",
   "execution_count": 4,
   "metadata": {},
   "outputs": [],
   "source": [
    "x_train, x_test, y_train, y_test = train_test_split(x, y, test_size=0.4)"
   ]
  },
  {
   "cell_type": "markdown",
   "metadata": {},
   "source": [
    "#### Support Vector Machine trainieren"
   ]
  },
  {
   "cell_type": "code",
   "execution_count": 5,
   "metadata": {},
   "outputs": [
    {
     "name": "stdout",
     "output_type": "stream",
     "text": [
      "[LibSVM]"
     ]
    },
    {
     "data": {
      "text/plain": [
       "SVC(C=1000, gamma=0.002, verbose=1)"
      ]
     },
     "execution_count": 5,
     "metadata": {},
     "output_type": "execute_result"
    }
   ],
   "source": [
    "model = SVC(verbose=1, C=1000, gamma=0.002)\n",
    "model.fit(x_train, y_train)"
   ]
  },
  {
   "cell_type": "markdown",
   "metadata": {},
   "source": [
    "#### Mit Testdaten vergleichen"
   ]
  },
  {
   "cell_type": "code",
   "execution_count": 6,
   "metadata": {},
   "outputs": [],
   "source": [
    "y_pred = model.predict(x_test)"
   ]
  },
  {
   "cell_type": "markdown",
   "metadata": {},
   "source": [
    "#### Accuracy-, Precision-, Recall- und F1-Score ausgeben"
   ]
  },
  {
   "cell_type": "code",
   "execution_count": 7,
   "metadata": {},
   "outputs": [
    {
     "name": "stdout",
     "output_type": "stream",
     "text": [
      "Accuracy:\t0.6127819548872181\n",
      "Precision:\t0.5987371703067192\n",
      "Recall:\t\t0.6127819548872181\n",
      "F1-Score:\t0.599558972027057\n"
     ]
    }
   ],
   "source": [
    "print(hf.get_scores(y_test, y_pred))"
   ]
  },
  {
   "cell_type": "markdown",
   "metadata": {},
   "source": [
    "#### Testdaten von Fr. Burghart hier"
   ]
  },
  {
   "cell_type": "code",
   "execution_count": 8,
   "metadata": {},
   "outputs": [
    {
     "name": "stdout",
     "output_type": "stream",
     "text": [
      "Class names and indices: {'bottleOpener': 0, 'canOpener': 1, 'corcScrew': 2, 'multiTool': 3}\n",
      "94.74 %\r"
     ]
    }
   ],
   "source": [
    "df = hf.extract_features(os.path.join(\"data\", \"images\", \"test\"))"
   ]
  },
  {
   "cell_type": "code",
   "execution_count": 9,
   "metadata": {},
   "outputs": [],
   "source": [
    "#df = df.iloc[1:, 3:]\n",
    "df = df.reindex(columns=[\"Aspect Ratio\", \"Number of Corners (Harris)\",\n",
    "           \"Number of Corners (Shi-Tomasi)\",\n",
    "           \"Perimeter Area Ratio\", \"Class Index\"])\n",
    "df = df.apply(pd.to_numeric, errors='coerce')\n",
    "df = df[df.iloc[:, -1] < 3]\n",
    "df = df.sample(frac=1)"
   ]
  },
  {
   "cell_type": "code",
   "execution_count": 10,
   "metadata": {},
   "outputs": [
    {
     "name": "stdout",
     "output_type": "stream",
     "text": [
      "Accuracy:\t0.6428571428571429\n",
      "Precision:\t0.7519841269841271\n",
      "Recall:\t\t0.6428571428571429\n",
      "F1-Score:\t0.6074829931972789\n"
     ]
    }
   ],
   "source": [
    "x_test = df.iloc[:, :-1]\n",
    "y_test = df.iloc[:, -1]\n",
    "\n",
    "y_pred = model.predict(x_test)\n",
    "\n",
    "print(hf.get_scores(y_test, y_pred))"
   ]
  },
  {
   "cell_type": "code",
   "execution_count": 11,
   "metadata": {},
   "outputs": [
    {
     "name": "stdout",
     "output_type": "stream",
     "text": [
      "Bild Nr. 0: Tatsächlich: Bottle opener | Prediction: Bottle opener\n",
      "Bild Nr. 1: Tatsächlich: Bottle opener | Prediction: Bottle opener\n",
      "Bild Nr. 2: Tatsächlich: Bottle opener | Prediction: Bottle opener\n",
      "Bild Nr. 3: Tatsächlich: Bottle opener | Prediction: Bottle opener\n",
      "Bild Nr. 4: Tatsächlich: Bottle opener | Prediction: Can opener\n",
      "Bild Nr. 5: Tatsächlich: Can opener | Prediction: Bottle opener\n",
      "Bild Nr. 6: Tatsächlich: Can opener | Prediction: Bottle opener\n",
      "Bild Nr. 7: Tatsächlich: Can opener | Prediction: Cork screw\n",
      "Bild Nr. 8: Tatsächlich: Can opener | Prediction: Can opener\n",
      "Bild Nr. 9: Tatsächlich: Can opener | Prediction: Can opener\n",
      "Bild Nr. 10: Tatsächlich: Cork screw | Prediction: Bottle opener\n",
      "Bild Nr. 11: Tatsächlich: Cork screw | Prediction: Bottle opener\n",
      "Bild Nr. 12: Tatsächlich: Cork screw | Prediction: Can opener\n",
      "Bild Nr. 13: Tatsächlich: Cork screw | Prediction: Bottle opener\n"
     ]
    }
   ],
   "source": [
    "y_pred = y_pred.astype(int)\n",
    "class_names = ['Bottle opener', 'Can opener', 'Cork screw', 'Multitool']\n",
    "\n",
    "for idx, pred in enumerate(y_pred):\n",
    "    print (f\"Bild Nr. {idx}: Tatsächlich: {class_names[y_test[idx]]} | Prediction: {class_names[pred]}\")"
   ]
  }
 ],
 "metadata": {
  "interpreter": {
   "hash": "5a40cf6a1da29a39ead2ba32911a0c6fce94dd082a7ebb2950da7752aaf1c51d"
  },
  "kernelspec": {
   "display_name": "Python 3.8.8 64-bit ('base': conda)",
   "language": "python",
   "name": "python3"
  },
  "language_info": {
   "codemirror_mode": {
    "name": "ipython",
    "version": 3
   },
   "file_extension": ".py",
   "mimetype": "text/x-python",
   "name": "python",
   "nbconvert_exporter": "python",
   "pygments_lexer": "ipython3",
   "version": "3.8.8"
  },
  "orig_nbformat": 4
 },
 "nbformat": 4,
 "nbformat_minor": 2
}
