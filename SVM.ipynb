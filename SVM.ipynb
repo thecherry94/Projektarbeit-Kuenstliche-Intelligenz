{
 "cells": [
  {
   "cell_type": "code",
   "execution_count": 34,
   "metadata": {},
   "outputs": [],
   "source": [
    "import numpy as np\n",
    "import os\n",
    "from sklearn.pipeline import make_pipeline\n",
    "from sklearn.preprocessing import StandardScaler\n",
    "from sklearn.svm import SVC, LinearSVC\n",
    "from sklearn.preprocessing import MinMaxScaler, RobustScaler, scale\n",
    "from sklearn.model_selection import train_test_split\n",
    "from sklearn.metrics import f1_score, accuracy_score, precision_score, recall_score\n",
    "import pandas as pd\n",
    "import modules.feature_extraction as fe"
   ]
  },
  {
   "cell_type": "markdown",
   "metadata": {},
   "source": [
    "#### Features aus csv lesen"
   ]
  },
  {
   "cell_type": "code",
   "execution_count": 35,
   "metadata": {},
   "outputs": [],
   "source": [
    "df = pd.read_csv(r\"data\\features.csv\", sep=';', header=None)\n",
    "df = df.iloc[1:, 3:]\n",
    "df = df.reindex(columns=[4, 5, 6, 7, 3])\n",
    "df = df.apply(pd.to_numeric, errors='coerce')\n",
    "df = df[df.iloc[:, -1] < 3]\n",
    "df = df.sample(frac=1)"
   ]
  },
  {
   "cell_type": "markdown",
   "metadata": {},
   "source": [
    "#### x y Werte zum Trainieren trennen"
   ]
  },
  {
   "cell_type": "code",
   "execution_count": 36,
   "metadata": {},
   "outputs": [],
   "source": [
    "x = df.iloc[:, :-1]\n",
    "y = df.iloc[:, -1]"
   ]
  },
  {
   "cell_type": "markdown",
   "metadata": {},
   "source": [
    "#### Train / Test Daten trennen"
   ]
  },
  {
   "cell_type": "code",
   "execution_count": 37,
   "metadata": {},
   "outputs": [],
   "source": [
    "x_train, x_test, y_train, y_test = train_test_split(x, y, test_size=0.4)"
   ]
  },
  {
   "cell_type": "markdown",
   "metadata": {},
   "source": [
    "#### Support Vector Machine trainieren"
   ]
  },
  {
   "cell_type": "code",
   "execution_count": 38,
   "metadata": {},
   "outputs": [
    {
     "name": "stdout",
     "output_type": "stream",
     "text": [
      "[LibSVM]"
     ]
    },
    {
     "data": {
      "text/plain": [
       "SVC(C=1000, gamma=0.002, verbose=1)"
      ]
     },
     "execution_count": 38,
     "metadata": {},
     "output_type": "execute_result"
    }
   ],
   "source": [
    "model = SVC(verbose=1, C=1000, gamma=0.002)\n",
    "model.fit(x_train, y_train)"
   ]
  },
  {
   "cell_type": "markdown",
   "metadata": {},
   "source": [
    "#### Mit Testdaten vergleichen"
   ]
  },
  {
   "cell_type": "code",
   "execution_count": 39,
   "metadata": {},
   "outputs": [],
   "source": [
    "y_pred = model.predict(x_test)"
   ]
  },
  {
   "cell_type": "markdown",
   "metadata": {},
   "source": [
    "#### Accuracy-, Precision-, Recall- und F1-Score ausgeben"
   ]
  },
  {
   "cell_type": "code",
   "execution_count": 40,
   "metadata": {},
   "outputs": [
    {
     "name": "stdout",
     "output_type": "stream",
     "text": [
      "Accuracy:\t0.5112781954887218\n",
      "Precision:\t0.47464429027993366\n",
      "Recall:\t\t0.5112781954887218\n",
      "F1-Score:\t0.4650992035686272\n"
     ]
    }
   ],
   "source": [
    "accuracy = accuracy_score(y_test, y_pred)\n",
    "precision = precision_score(y_test, y_pred, average='weighted')\n",
    "recall = recall_score(y_test, y_pred, average='weighted')\n",
    "f1 = f1_score(y_test, y_pred, average='weighted')\n",
    "\n",
    "print(\"Accuracy:\\t{}\\nPrecision:\\t{}\\nRecall:\\t\\t{}\\nF1-Score:\\t{}\".format(accuracy, precision, recall, f1))"
   ]
  },
  {
   "cell_type": "markdown",
   "metadata": {},
   "source": [
    "#### Testdaten von Fr. Burghart hier"
   ]
  },
  {
   "cell_type": "code",
   "execution_count": 41,
   "metadata": {},
   "outputs": [
    {
     "name": "stdout",
     "output_type": "stream",
     "text": [
      "Class names and indices: {'bottleOpener': 0, 'canOpener': 1, 'corcScrew': 2, 'multiTool': 3}\n",
      "Information on the feature dataframe:\n",
      "<class 'pandas.core.frame.DataFrame'>\n",
      "RangeIndex: 19 entries, 0 to 18\n",
      "Data columns (total 7 columns):\n",
      " #   Column                          Non-Null Count  Dtype  \n",
      "---  ------                          --------------  -----  \n",
      " 0   Relative Image Path             19 non-null     object \n",
      " 1   Class Name                      19 non-null     object \n",
      " 2   Class Index                     19 non-null     object \n",
      " 3   Aspect Ratio                    19 non-null     float64\n",
      " 4   Number of Corners (Harris)      19 non-null     object \n",
      " 5   Number of Corners (Shi-Tomasi)  19 non-null     object \n",
      " 6   Perimeter Area Ratio            19 non-null     float64\n",
      "dtypes: float64(2), object(5)\n",
      "memory usage: 1.2+ KB\n"
     ]
    }
   ],
   "source": [
    "relImgPath = os.path.join(\"data\", \"images\", \"test\")\n",
    "\n",
    "imgPaths = []\n",
    "for dirpath, dirnames, filenames in os.walk(relImgPath):\n",
    "    if dirnames:\n",
    "        classes = {}\n",
    "        for index, name in enumerate(dirnames):\n",
    "            classes[name]=index\n",
    "    for filename in filenames:# [f for f in filenames if f.endswith(suportedImgFomats)]:\n",
    "        imgPaths.append(os.path.join(dirpath, filename))\n",
    "\n",
    "# TODO delete SPLITIT folder\n",
    "print(\"Class names and indices:\", classes)\n",
    "\n",
    "features = [\"Relative Image Path\",\n",
    "           \"Class Name\",\n",
    "           \"Class Index\",\n",
    "           \"Aspect Ratio\",\n",
    "           \"Number of Corners (Harris)\",\n",
    "           \"Number of Corners (Shi-Tomasi)\",\n",
    "           \"Perimeter Area Ratio\"]\n",
    "\n",
    "df = pd.DataFrame(columns=features)\n",
    "\n",
    "for i, path in enumerate(imgPaths):\n",
    "    c = path.split(os.sep)[-2]\n",
    "    img = fe.prepared_image(path)\n",
    "    ratio = fe.aspect_ratio(img)#path) \n",
    "    numCornersH = fe.num_corners(img, detector=\"harris\")#fe.harris_corner_detection(img)#,path)#path)\n",
    "    numCornersST = fe.num_corners(img, detector=\"shi-tomasi\")#fe.shi_tomasi_corner_detection(img)#path)\n",
    "    ratioPerim = fe.perimeter_area_ratio(img)\n",
    "    \n",
    "    row = pd.Series([path, c, classes[c], ratio, numCornersH, numCornersST, ratioPerim], index = features)\n",
    "    df = df.append(row, ignore_index=True)\n",
    "    \n",
    "    #for imgName in [\"original\", \"prepared\", \"canny\", \"canny closed gaps\", \n",
    "    #                \"contours\", \"max area contour\", \"harris\", \"shi-tomasi\"]:\n",
    "    #    fe.display_image(fe.images[imgName], title=imgName)\n",
    "    \n",
    "    print(str(format((100./len(imgPaths))*i, \".2f\"))+\" %\", end=\"\\r\")\n",
    "\n",
    "\n",
    "print(\"Information on the feature dataframe:\")\n",
    "df.info()"
   ]
  },
  {
   "cell_type": "code",
   "execution_count": 42,
   "metadata": {},
   "outputs": [],
   "source": [
    "#df = df.iloc[1:, 3:]\n",
    "df = df.reindex(columns=[\"Aspect Ratio\", \"Number of Corners (Harris)\",\n",
    "           \"Number of Corners (Shi-Tomasi)\",\n",
    "           \"Perimeter Area Ratio\", \"Class Index\"])\n",
    "df = df.apply(pd.to_numeric, errors='coerce')\n",
    "df = df[df.iloc[:, -1] < 3]\n",
    "df = df.sample(frac=1)"
   ]
  },
  {
   "cell_type": "code",
   "execution_count": 45,
   "metadata": {},
   "outputs": [
    {
     "name": "stdout",
     "output_type": "stream",
     "text": [
      "Accuracy:\t0.7857142857142857\n",
      "Precision:\t0.8660714285714286\n",
      "Recall:\t\t0.7857142857142857\n",
      "F1-Score:\t0.787480376766091\n"
     ]
    }
   ],
   "source": [
    "x_test = df.iloc[:, :-1]\n",
    "y_test = df.iloc[:, -1]\n",
    "\n",
    "y_pred = model.predict(x_test)\n",
    "\n",
    "accuracy = accuracy_score(y_test, y_pred)\n",
    "precision = precision_score(y_test, y_pred, average='weighted')\n",
    "recall = recall_score(y_test, y_pred, average='weighted')\n",
    "f1 = f1_score(y_test, y_pred, average='weighted')\n",
    "\n",
    "print(\"Accuracy:\\t{}\\nPrecision:\\t{}\\nRecall:\\t\\t{}\\nF1-Score:\\t{}\".format(accuracy, precision, recall, f1))"
   ]
  },
  {
   "cell_type": "code",
   "execution_count": 48,
   "metadata": {},
   "outputs": [
    {
     "name": "stdout",
     "output_type": "stream",
     "text": [
      "Bild Nr. 0: Tatsächlich: bottleOpener | Prediction: bottleOpener\n",
      "Bild Nr. 1: Tatsächlich: bottleOpener | Prediction: bottleOpener\n",
      "Bild Nr. 2: Tatsächlich: bottleOpener | Prediction: bottleOpener\n",
      "Bild Nr. 3: Tatsächlich: bottleOpener | Prediction: corcScrew\n",
      "Bild Nr. 4: Tatsächlich: bottleOpener | Prediction: canOpener\n",
      "Bild Nr. 5: Tatsächlich: canOpener | Prediction: corcScrew\n",
      "Bild Nr. 6: Tatsächlich: canOpener | Prediction: bottleOpener\n",
      "Bild Nr. 7: Tatsächlich: canOpener | Prediction: canOpener\n",
      "Bild Nr. 8: Tatsächlich: canOpener | Prediction: canOpener\n",
      "Bild Nr. 9: Tatsächlich: canOpener | Prediction: bottleOpener\n",
      "Bild Nr. 10: Tatsächlich: corcScrew | Prediction: bottleOpener\n",
      "Bild Nr. 11: Tatsächlich: corcScrew | Prediction: bottleOpener\n",
      "Bild Nr. 12: Tatsächlich: corcScrew | Prediction: bottleOpener\n",
      "Bild Nr. 13: Tatsächlich: corcScrew | Prediction: corcScrew\n"
     ]
    }
   ],
   "source": [
    "class_names = dict((v, k) for k, v in classes.items())\n",
    "\n",
    "for idx, pred in enumerate(y_pred):\n",
    "    print (f\"Bild Nr. {idx}: Tatsächlich: {class_names[y_test[idx]]} | Prediction: {class_names[pred]}\")"
   ]
  }
 ],
 "metadata": {
  "interpreter": {
   "hash": "5a40cf6a1da29a39ead2ba32911a0c6fce94dd082a7ebb2950da7752aaf1c51d"
  },
  "kernelspec": {
   "display_name": "Python 3.8.8 64-bit ('base': conda)",
   "language": "python",
   "name": "python3"
  },
  "language_info": {
   "codemirror_mode": {
    "name": "ipython",
    "version": 3
   },
   "file_extension": ".py",
   "mimetype": "text/x-python",
   "name": "python",
   "nbconvert_exporter": "python",
   "pygments_lexer": "ipython3",
   "version": "3.8.8"
  },
  "orig_nbformat": 4
 },
 "nbformat": 4,
 "nbformat_minor": 2
}
