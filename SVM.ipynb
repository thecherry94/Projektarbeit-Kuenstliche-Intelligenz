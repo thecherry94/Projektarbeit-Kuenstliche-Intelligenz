{
 "cells": [
  {
   "cell_type": "code",
   "execution_count": 1,
   "metadata": {},
   "outputs": [],
   "source": [
    "import numpy as np\n",
    "import os\n",
    "from sklearn.pipeline import make_pipeline\n",
    "from sklearn.preprocessing import StandardScaler\n",
    "from sklearn.svm import SVC, LinearSVC\n",
    "from sklearn.preprocessing import MinMaxScaler, RobustScaler, scale\n",
    "from sklearn.model_selection import train_test_split\n",
    "from sklearn.metrics import f1_score, accuracy_score, precision_score, recall_score\n",
    "import pandas as pd\n",
    "import modules.feature_extraction as fe"
   ]
  },
  {
   "cell_type": "markdown",
   "metadata": {},
   "source": [
    "#### Features aus csv lesen"
   ]
  },
  {
   "cell_type": "code",
   "execution_count": 2,
   "metadata": {},
   "outputs": [],
   "source": [
    "df = pd.read_csv(r\"data\\features.csv\", sep=';', header=None)\n",
    "df = df.iloc[1:, 3:]\n",
    "df = df.reindex(columns=[4, 5, 6, 7, 3])\n",
    "df = df.apply(pd.to_numeric, errors='coerce')\n",
    "df = df[df.iloc[:, -1] < 3]\n",
    "df = df.sample(frac=1)"
   ]
  },
  {
   "cell_type": "markdown",
   "metadata": {},
   "source": [
    "#### x y Werte zum Trainieren trennen"
   ]
  },
  {
   "cell_type": "code",
   "execution_count": 3,
   "metadata": {},
   "outputs": [],
   "source": [
    "x = df.iloc[:, :-1]\n",
    "y = df.iloc[:, -1]"
   ]
  },
  {
   "cell_type": "markdown",
   "metadata": {},
   "source": [
    "#### Train / Test Daten trennen"
   ]
  },
  {
   "cell_type": "code",
   "execution_count": 4,
   "metadata": {},
   "outputs": [],
   "source": [
    "x_train, x_test, y_train, y_test = train_test_split(x, y, test_size=0.4)"
   ]
  },
  {
   "cell_type": "markdown",
   "metadata": {},
   "source": [
    "#### Support Vector Machine trainieren"
   ]
  },
  {
   "cell_type": "code",
   "execution_count": 5,
   "metadata": {},
   "outputs": [
    {
     "name": "stdout",
     "output_type": "stream",
     "text": [
      "[LibSVM]"
     ]
    },
    {
     "data": {
      "text/plain": [
       "SVC(C=1000, gamma=0.002, verbose=1)"
      ]
     },
     "execution_count": 5,
     "metadata": {},
     "output_type": "execute_result"
    }
   ],
   "source": [
    "model = SVC(verbose=1, C=1000, gamma=0.002)\n",
    "model.fit(x_train, y_train)"
   ]
  },
  {
   "cell_type": "markdown",
   "metadata": {},
   "source": [
    "#### Mit Testdaten vergleichen"
   ]
  },
  {
   "cell_type": "code",
   "execution_count": 6,
   "metadata": {},
   "outputs": [],
   "source": [
    "y_pred = model.predict(x_test)"
   ]
  },
  {
   "cell_type": "markdown",
   "metadata": {},
   "source": [
    "#### Accuracy-, Precision-, Recall- und F1-Score ausgeben"
   ]
  },
  {
   "cell_type": "code",
   "execution_count": 7,
   "metadata": {},
   "outputs": [
    {
     "name": "stdout",
     "output_type": "stream",
     "text": [
      "Accuracy:\t0.48872180451127817\n",
      "Precision:\t0.42041754872618436\n",
      "Recall:\t\t0.48872180451127817\n",
      "F1-Score:\t0.4196083670441207\n"
     ]
    }
   ],
   "source": [
    "accuracy = accuracy_score(y_test, y_pred)\n",
    "precision = precision_score(y_test, y_pred, average='weighted')\n",
    "recall = recall_score(y_test, y_pred, average='weighted')\n",
    "f1 = f1_score(y_test, y_pred, average='weighted')\n",
    "\n",
    "print(\"Accuracy:\\t{}\\nPrecision:\\t{}\\nRecall:\\t\\t{}\\nF1-Score:\\t{}\".format(accuracy, precision, recall, f1))"
   ]
  },
  {
   "cell_type": "code",
   "execution_count": 8,
   "metadata": {},
   "outputs": [
    {
     "name": "stdout",
     "output_type": "stream",
     "text": [
      "Class names and indices: {'bottleOpener': 0, 'canOpener': 1, 'corcScrew': 2, 'multiTool': 3}\n"
     ]
    }
   ],
   "source": [
    "relImgPath = os.path.join(\"data\", \"images\", \"test\")\n",
    "\n",
    "imgPaths = []\n",
    "for dirpath, dirnames, filenames in os.walk(relImgPath):\n",
    "    if dirnames:\n",
    "        classes = {}\n",
    "        for index, name in enumerate(dirnames):\n",
    "            classes[name]=index\n",
    "    for filename in filenames:# [f for f in filenames if f.endswith(suportedImgFomats)]:\n",
    "        imgPaths.append(os.path.join(dirpath, filename))\n",
    "\n",
    "# TODO delete SPLITIT folder\n",
    "print(\"Class names and indices:\", classes)\n",
    "\n",
    "features = [\"Relative Image Path\",\n",
    "           \"Class Name\",\n",
    "           \"Class Index\",\n",
    "           \"Aspect Ratio\",\n",
    "           \"Number of Corners (Harris)\",\n",
    "           \"Number of Corners (Shi-Tomasi)\",\n",
    "           \"Perimeter Area Ratio\"]\n",
    "\n",
    "df = pd.DataFrame(columns=features)\n",
    "\n",
    "for i, path in enumerate(imgPaths):\n",
    "    c = path.split(os.sep)[-2]\n",
    "    img = fe.prepared_image(path)\n",
    "    ratio = fe.aspect_ratio(img)#path) \n",
    "    numCornersH = fe.num_corners(img, detector=\"harris\")#fe.harris_corner_detection(img)#,path)#path)\n",
    "    numCornersST = fe.num_corners(img, detector=\"shi-tomasi\")#fe.shi_tomasi_corner_detection(img)#path)\n",
    "    ratioPerim = fe.perimeter_area_ratio(img)\n",
    "    \n",
    "    row = pd.Series([path, c, classes[c], ratio, numCornersH, numCornersST, ratioPerim], index = features)\n",
    "    df = df.append(row, ignore_index=True)\n",
    "    \n",
    "    for imgName in [\"original\", \"prepared\", \"canny\", \"canny closed gaps\", \n",
    "                    \"contours\", \"max area contour\", \"harris\", \"shi-tomasi\"]:\n",
    "        fe.display_image(fe.images[imgName], title=imgName)\n",
    "    \n",
    "    print(str(format((100./len(imgPaths))*i, \".2f\"))+\" %\", end=\"\\r\")\n",
    "\n",
    "\n",
    "print(\"Information on the feature dataframe:\")\n",
    "df.info()"
   ]
  }
 ],
 "metadata": {
  "interpreter": {
   "hash": "5a40cf6a1da29a39ead2ba32911a0c6fce94dd082a7ebb2950da7752aaf1c51d"
  },
  "kernelspec": {
   "display_name": "Python 3.8.8 64-bit ('base': conda)",
   "language": "python",
   "name": "python3"
  },
  "language_info": {
   "codemirror_mode": {
    "name": "ipython",
    "version": 3
   },
   "file_extension": ".py",
   "mimetype": "text/x-python",
   "name": "python",
   "nbconvert_exporter": "python",
   "pygments_lexer": "ipython3",
   "version": "3.8.8"
  },
  "orig_nbformat": 4
 },
 "nbformat": 4,
 "nbformat_minor": 2
}
