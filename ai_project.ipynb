{
 "cells": [
  {
   "cell_type": "markdown",
   "id": "023655b0",
   "metadata": {},
   "source": [
    "# Classification of Bottle Openers, Can Openers and Corc Screws by Means of AI Methods\n",
    "\n",
    "This assignment aims to provide multiple methods for classifying bottle openers, can openers and corc screws from images. The results of the different methods are to be analyzed and compared."
   ]
  },
  {
   "cell_type": "markdown",
   "id": "ba2df237",
   "metadata": {},
   "source": [
    "## 1. Data Aquisition and Augmentation\n",
    "\n",
    "To train the methods for classification from images, first some training data has to be acquired. Many images have been provided in the course. They have been sorted to get only the images suitable for training. Additionally xxxxxxx images have been taken.\n",
    "\n",
    "Data augmentation is useful to get more data. The following kinds of augmentation are applied:\n",
    "* asödkfj\n",
    "* öaskdjf\n",
    "\n",
    "They are perfomed multiple times with different parameters. The results are xxxxxx images total in comparison to xxxxx original images before the augmentation. The images are saved as numpy arrays in .npy files. RELATIVE DIRECTORY???"
   ]
  },
  {
   "cell_type": "markdown",
   "id": "b9c0f983",
   "metadata": {},
   "source": [
    "## 2. Feature Extraction\n",
    "\n",
    "The following features have been extracted from the original image dataset (without the augmented images).\n",
    "* The outer contour's aspect ratio\n",
    "* Number of corners detected via Harris Corner Detection\n",
    "* Number of corners detected via Shi-Tomasi Corner Detection\n",
    "* The outer contour's perimeter-area ratio\n",
    "\n",
    "The extracted features are saved in \"/data/features.csv\"."
   ]
  },
  {
   "cell_type": "markdown",
   "id": "8713ae8b",
   "metadata": {},
   "source": [
    "## 3. Apply AI Methods\n",
    "\n",
    "A total of five AI methods is to be applied. Three of them are self-implemented from scratch: Naive Bayes Classifier, Decision Tree and Random Forest. Additionally a Convolutional Neural Network (CNN) and a CNN with Transfer Learning using tensorflow and keras have been implemented as well as an additional method which has not been reviewed during the lecture: Support Vector Machines (SVM). "
   ]
  },
  {
   "cell_type": "code",
   "execution_count": 9,
   "id": "71425faf",
   "metadata": {},
   "outputs": [],
   "source": [
    "# Some variables required by multiple methods\n",
    "# Dictionary to get data by name\n",
    "data = dict()\n",
    "\n",
    "# Dictionary to get predictions by method name\n",
    "predictions = dict()"
   ]
  },
  {
   "cell_type": "markdown",
   "id": "bcee9a7f",
   "metadata": {},
   "source": [
    "### 3.1 Import Data"
   ]
  },
  {
   "cell_type": "markdown",
   "id": "d213a33e",
   "metadata": {},
   "source": [
    "#### Required Imports"
   ]
  },
  {
   "cell_type": "code",
   "execution_count": 10,
   "id": "508c2e03",
   "metadata": {},
   "outputs": [],
   "source": [
    "import numpy as np\n",
    "import pandas as pd\n",
    "import cv2\n",
    "import os\n",
    "\n",
    "import HelperFunctions\n",
    "import DataAugmentation"
   ]
  },
  {
   "cell_type": "markdown",
   "id": "81ac1d04",
   "metadata": {},
   "source": [
    "#### Import Images"
   ]
  },
  {
   "cell_type": "code",
   "execution_count": 11,
   "id": "6a28ffe0",
   "metadata": {},
   "outputs": [],
   "source": [
    "# Import original images and save as numpy array\n",
    "original = np.load(\"data/images/augmented/original.npy\", allow_pickle=True)\n",
    "\n",
    "X_original = []\n",
    "y_original = []\n",
    "\n",
    "for idx, d in enumerate(original):\n",
    "    X_original.extend(d)\n",
    "    for e in d:\n",
    "        y_original.append([idx])\n",
    "        \n",
    "data[\"Original Images\"] = np.array(X_original)\n",
    "data[\"Original Labels\"] = np.array(y_original)"
   ]
  },
  {
   "cell_type": "code",
   "execution_count": 12,
   "id": "786d27d6",
   "metadata": {},
   "outputs": [],
   "source": [
    "image_shape = data[\"Original Images\"].shape\n",
    "IMG_SIZE = image_shape[1:3]\n",
    "IMG_SHAPE = image_shape[1:4]"
   ]
  },
  {
   "cell_type": "code",
   "execution_count": 13,
   "id": "caddd161",
   "metadata": {},
   "outputs": [],
   "source": [
    "testpaths, classes = HelperFunctions.load_images(os.path.join(\"data\", \"images\", \"test\"))\n",
    "\n",
    "X_tests = []\n",
    "y_tests = []\n",
    "\n",
    "for path in testpaths:\n",
    "    img = cv2.imread(path, cv2.COLOR_BGR2RGB)\n",
    "    img = DataAugmentation.resizeAndPad(img, IMG_SIZE)\n",
    "    X_tests.append(img)\n",
    "    y_tests.append(classes[path.split(os.sep)[-2]])\n",
    "    \n",
    "data[\"Test Images\"] = np.array(X_tests)\n",
    "data[\"Test Labels\"] = np.array(y_tests)"
   ]
  },
  {
   "cell_type": "code",
   "execution_count": 14,
   "id": "e6ccfc0a",
   "metadata": {},
   "outputs": [
    {
     "name": "stdout",
     "output_type": "stream",
     "text": [
      "Original images: (5243, 32, 32, 3), original labels: (5243, 1).\n",
      "Augmented images: (795438, 32, 32, 3), augmented labels: (795438, 1).\n",
      "Test images: (19, 32, 32, 3), test labels: (19,).\n"
     ]
    }
   ],
   "source": [
    "# Import augmented images and save as numpy array\n",
    "augmented = np.load(\"data/images/augmented/augmentation.npy\", allow_pickle=True)\n",
    "\n",
    "X_augmented = []\n",
    "y_augmented = []\n",
    "\n",
    "for idx, d in enumerate(augmented):\n",
    "    X_augmented.extend(d)\n",
    "    for e in d:\n",
    "        y_augmented.append([idx])\n",
    "        \n",
    "data[\"Augmented Images\"] = np.array(X_augmented)\n",
    "data[\"Augmented Labels\"] = np.array(y_augmented)\n",
    "\n",
    "# User Feedback: shapes of image arrays\n",
    "print(f\"Original images: {data['Original Images'].shape}, original labels: {data['Original Labels'].shape}.\")\n",
    "print(f\"Augmented images: {data['Augmented Images'].shape}, augmented labels: {data['Augmented Labels'].shape}.\")\n",
    "print(f\"Test images: {data['Test Images'].shape}, test labels: {data['Test Labels'].shape}.\")"
   ]
  },
  {
   "cell_type": "markdown",
   "id": "dfae5dbb",
   "metadata": {},
   "source": [
    "#### Import Features"
   ]
  },
  {
   "cell_type": "code",
   "execution_count": 15,
   "id": "64068052",
   "metadata": {},
   "outputs": [],
   "source": [
    "# Read the features CSV file\n",
    "features = pd.read_csv(r\"data\\features.csv\", sep=';', header=None)\n",
    "\n",
    "# Drop unnecessary data and put classification column at the end\n",
    "features = features.iloc[1:, 3:]\n",
    "features = features.reindex(columns=[4, 5, 6, 7, 3])\n",
    "\n",
    "# Remove the multitool class\n",
    "features = features.apply(pd.to_numeric, errors=\"coerce\")\n",
    "features = features[features.iloc[:, -1] < 3]\n",
    "\n",
    "X_features = features.iloc[:, :-1]\n",
    "y_features = features.iloc[:, -1]\n",
    "\n",
    "data[\"DataFrame Features\"] = X_features\n",
    "data[\"DataFrame Classes\"] = y_features"
   ]
  },
  {
   "cell_type": "markdown",
   "id": "13924f35",
   "metadata": {},
   "source": [
    "### 3.2 Naive Bayes Classifier"
   ]
  },
  {
   "cell_type": "markdown",
   "id": "ec79e730",
   "metadata": {},
   "source": [
    "#### Required Imports"
   ]
  },
  {
   "cell_type": "code",
   "execution_count": 16,
   "id": "4b94b107",
   "metadata": {},
   "outputs": [],
   "source": [
    "import os\n",
    "from random import randrange\n",
    "import pandas as pd\n",
    "\n",
    "from sklearn.model_selection import train_test_split\n",
    "from sklearn.naive_bayes import GaussianNB\n",
    "\n",
    "import modules.naive_bayes as nb"
   ]
  },
  {
   "cell_type": "markdown",
   "id": "35e4222f",
   "metadata": {},
   "source": [
    "#### Prepare Data"
   ]
  },
  {
   "cell_type": "code",
   "execution_count": 17,
   "id": "43bf7de3",
   "metadata": {},
   "outputs": [],
   "source": [
    "X_train, X_test, y_train, y_test = train_test_split(data[\"DataFrame Features\"], \n",
    "                                                    data[\"DataFrame Classes\"], \n",
    "                                                    test_size=0.3, \n",
    "                                                    random_state=2)\n",
    "\n",
    "train = pd.concat([X_train, y_train], axis = 1)"
   ]
  },
  {
   "cell_type": "markdown",
   "id": "129f447e",
   "metadata": {},
   "source": [
    "#### Predict With Self-Implemented Method"
   ]
  },
  {
   "cell_type": "code",
   "execution_count": 18,
   "id": "53e91f78",
   "metadata": {},
   "outputs": [],
   "source": [
    "y_pred = nb.predict(X_test, train)\n",
    "predictions[\"Naive Bayes\"] = (y_test, y_pred)"
   ]
  },
  {
   "cell_type": "markdown",
   "id": "d908b0a0",
   "metadata": {},
   "source": [
    "#### Predict With sklearn Method"
   ]
  },
  {
   "cell_type": "code",
   "execution_count": 19,
   "id": "cef8d6b0",
   "metadata": {},
   "outputs": [],
   "source": [
    "bayes_clf = GaussianNB()\n",
    "bayes_clf.fit(X_train, y_train)\n",
    "\n",
    "y_pred = bayes_clf.predict(X_test)\n",
    "predictions[\"Naive Bayes sklearn\"] = (y_test, y_pred)"
   ]
  },
  {
   "cell_type": "markdown",
   "id": "00b56e09",
   "metadata": {},
   "source": [
    "### 3.2 Decision Tree Classifier"
   ]
  },
  {
   "cell_type": "markdown",
   "id": "611d4741",
   "metadata": {},
   "source": [
    "#### Required Imports"
   ]
  },
  {
   "cell_type": "code",
   "execution_count": 20,
   "id": "f7fa08d9",
   "metadata": {},
   "outputs": [],
   "source": [
    "import os\n",
    "import pandas as pd\n",
    "import numpy as np\n",
    "\n",
    "from sklearn.tree import DecisionTreeClassifier\n",
    "\n",
    "import DecisionTree as dt"
   ]
  },
  {
   "cell_type": "markdown",
   "id": "3ce08d1a",
   "metadata": {},
   "source": [
    "#### Prepare Data"
   ]
  },
  {
   "cell_type": "code",
   "execution_count": 21,
   "id": "b9199e93",
   "metadata": {},
   "outputs": [],
   "source": [
    "X_train, X_test, y_train, y_test = train_test_split(data[\"DataFrame Features\"], \n",
    "                                                    data[\"DataFrame Classes\"], \n",
    "                                                    test_size=0.2, \n",
    "                                                    random_state=42)\n",
    "\n",
    "train = pd.concat([X_train, y_train], axis=1).to_numpy(dtype='float32')\n",
    "test = pd.concat([X_test, y_test], axis=1).to_numpy(dtype='float32')"
   ]
  },
  {
   "cell_type": "markdown",
   "id": "8f114954",
   "metadata": {},
   "source": [
    "#### Predict With Self-Implemented Method"
   ]
  },
  {
   "cell_type": "code",
   "execution_count": 22,
   "id": "eb60814b",
   "metadata": {},
   "outputs": [],
   "source": [
    "tree = dt.build_tree(train, 8, 1)\n",
    "y_pred = [dt.predict(tree, row) for row in test]\n",
    "predictions[\"Decision Tree\"] = (y_test, y_pred)"
   ]
  },
  {
   "cell_type": "markdown",
   "id": "493fa4e4",
   "metadata": {},
   "source": [
    "#### Predict With sklearn Method"
   ]
  },
  {
   "cell_type": "code",
   "execution_count": 23,
   "id": "8ee9cc58",
   "metadata": {},
   "outputs": [],
   "source": [
    "tree_clf = DecisionTreeClassifier()\n",
    "tree_clf.fit(X_train, y_train)\n",
    "y_pred = tree_clf.predict(X_test)\n",
    "predictions[\"Decision Tree sklearn\"] = (y_test, y_pred)"
   ]
  },
  {
   "cell_type": "markdown",
   "id": "a9ea9cf2",
   "metadata": {},
   "source": [
    "### 3.3 Random Forest Classifier"
   ]
  },
  {
   "cell_type": "markdown",
   "id": "8319606d",
   "metadata": {},
   "source": [
    "#### Required Imports"
   ]
  },
  {
   "cell_type": "code",
   "execution_count": 24,
   "id": "c07b132d",
   "metadata": {},
   "outputs": [],
   "source": [
    "import os\n",
    "import pandas as pd\n",
    "import numpy as np\n",
    "\n",
    "import DecisionTree as dt\n",
    "import RandomForest as rf\n",
    "\n",
    "from sklearn.ensemble import RandomForestClassifier"
   ]
  },
  {
   "cell_type": "markdown",
   "id": "c148326b",
   "metadata": {},
   "source": [
    "#### Prepare Data"
   ]
  },
  {
   "cell_type": "code",
   "execution_count": 25,
   "id": "bfb5edcb",
   "metadata": {},
   "outputs": [],
   "source": [
    "X_train, X_test, y_train, y_test = train_test_split(data[\"DataFrame Features\"], \n",
    "                                                    data[\"DataFrame Classes\"], \n",
    "                                                    test_size=0.2, \n",
    "                                                    random_state=42)\n",
    "\n",
    "train = pd.concat([X_train, y_train], axis=1).to_numpy(dtype='float32')\n",
    "test = pd.concat([X_test, y_test], axis=1).to_numpy(dtype='float32')"
   ]
  },
  {
   "cell_type": "markdown",
   "id": "1d8cb079",
   "metadata": {},
   "source": [
    "#### Predict With Self-Implemented Method"
   ]
  },
  {
   "cell_type": "code",
   "execution_count": 26,
   "id": "aeee7fad",
   "metadata": {},
   "outputs": [],
   "source": [
    "max_depths = [3, 6, 9, 12, 15, 18, 21, 24, 27, 30] # nochmal nachschauen\n",
    "min_sizes = [3 for i in range(len(max_depths))]\n",
    "forest = rf.build_forest(train, max_depths, min_sizes)"
   ]
  },
  {
   "cell_type": "code",
   "execution_count": 27,
   "id": "d1568ae5",
   "metadata": {},
   "outputs": [],
   "source": [
    "y_pred = [rf.predict(forest, row) for row in test]\n",
    "predictions[\"Random Forest\"] = (y_test, y_pred)"
   ]
  },
  {
   "cell_type": "markdown",
   "id": "4228a33d",
   "metadata": {},
   "source": [
    "#### Predict With sklearn Method"
   ]
  },
  {
   "cell_type": "code",
   "execution_count": 28,
   "id": "05bf07f5",
   "metadata": {},
   "outputs": [],
   "source": [
    "forest_clf = RandomForestClassifier(max_depth=20, random_state=0)\n",
    "forest_clf.fit(X_train, y_train)\n",
    "y_pred = forest_clf.predict(X_test)\n",
    "predictions[\"Random Forest sklearn\"] = (y_test, y_pred)"
   ]
  },
  {
   "cell_type": "markdown",
   "id": "ff4204f4",
   "metadata": {},
   "source": [
    "### 3.4 Convolutional Neural Network"
   ]
  },
  {
   "cell_type": "markdown",
   "id": "966d0792",
   "metadata": {},
   "source": [
    "#### Required Imports"
   ]
  },
  {
   "cell_type": "code",
   "execution_count": 29,
   "id": "aeb1f06b",
   "metadata": {},
   "outputs": [],
   "source": [
    "from tensorflow.keras import models"
   ]
  },
  {
   "cell_type": "markdown",
   "id": "68ffa9e3",
   "metadata": {},
   "source": [
    "#### Predict With Previously Self-Trained Network"
   ]
  },
  {
   "cell_type": "code",
   "execution_count": 33,
   "id": "2ddc68fa",
   "metadata": {},
   "outputs": [],
   "source": [
    "# Load previously trained model\n",
    "model = models.load_model('models/v4')\n",
    "y_pred = np.argmax(model.predict(data[\"Test Images\"]), axis=1)\n",
    "predictions[\"CNN\"] = (data[\"Test Labels\"], y_pred)"
   ]
  },
  {
   "cell_type": "markdown",
   "id": "eed9fda5",
   "metadata": {},
   "source": [
    "### 3.5 Transfer Learning With a CNN"
   ]
  },
  {
   "cell_type": "markdown",
   "id": "caa1dbdb",
   "metadata": {},
   "source": [
    "#### Required Imports"
   ]
  },
  {
   "cell_type": "code",
   "execution_count": 31,
   "id": "57c9b3b8",
   "metadata": {},
   "outputs": [],
   "source": [
    "from tensorflow.keras import models"
   ]
  },
  {
   "cell_type": "markdown",
   "id": "1ed2f6fd",
   "metadata": {},
   "source": [
    "#### Predict With Previously Adapted and Self-Trained Transfer Learning Network"
   ]
  },
  {
   "cell_type": "code",
   "execution_count": null,
   "id": "44da0fdf",
   "metadata": {},
   "outputs": [],
   "source": [
    "model = models.load_model('models/tl_v1')\n",
    "y_pred = np.argmax(model.predict(data[\"Test Images\"]), axis=1)\n",
    "predictions[\"CNN Transfer Learning\"] = (data[\"Test Labels\"], y_pred)"
   ]
  },
  {
   "cell_type": "markdown",
   "id": "202008cd",
   "metadata": {},
   "source": [
    "### 3.6 Support Vector Machine"
   ]
  },
  {
   "cell_type": "markdown",
   "id": "6e2fc429",
   "metadata": {},
   "source": [
    "#### Required Imports"
   ]
  },
  {
   "cell_type": "code",
   "execution_count": 39,
   "id": "9fd96a56",
   "metadata": {},
   "outputs": [],
   "source": [
    "from sklearn.svm import SVC"
   ]
  },
  {
   "cell_type": "code",
   "execution_count": 41,
   "id": "0370f6a5",
   "metadata": {},
   "outputs": [
    {
     "name": "stdout",
     "output_type": "stream",
     "text": [
      "[LibSVM]"
     ]
    }
   ],
   "source": [
    "model = SVC(verbose=1, C=1000, gamma=0.002)\n",
    "model.fit(X_train, y_train)\n",
    "y_pred = model.predict(X_test)\n",
    "predictions[\"Support Vector Machine\"] = (y_test, y_pred)"
   ]
  },
  {
   "cell_type": "markdown",
   "id": "624348a7",
   "metadata": {},
   "source": [
    "## 4. Compare Some Scores"
   ]
  },
  {
   "cell_type": "code",
   "execution_count": 34,
   "id": "addfe150",
   "metadata": {},
   "outputs": [],
   "source": [
    "import HelperFunctions"
   ]
  },
  {
   "cell_type": "code",
   "execution_count": 42,
   "id": "d6a36ef0",
   "metadata": {},
   "outputs": [
    {
     "name": "stdout",
     "output_type": "stream",
     "text": [
      "-----------------------------------------------------------------------------\n",
      "Naive Bayes: \n",
      "Accuracy:\t0.545\n",
      "Precision:\t0.4614444444444444\n",
      "Loss:\t\t-1\n",
      "Recall:\t\t0.545\n",
      "F1-Score:\t0.44140889225209645\n",
      "-----------------------------------------------------------------------------\n",
      "Naive Bayes sklearn: \n",
      "Accuracy:\t0.545\n",
      "Precision:\t0.4614444444444444\n",
      "Loss:\t\t-1\n",
      "Recall:\t\t0.545\n",
      "F1-Score:\t0.44140889225209645\n",
      "-----------------------------------------------------------------------------\n",
      "Decision Tree: \n",
      "Accuracy:\t0.47368421052631576\n",
      "Precision:\t0.5150636913804424\n",
      "Loss:\t\t-1\n",
      "Recall:\t\t0.47368421052631576\n",
      "F1-Score:\t0.4880154053086384\n",
      "-----------------------------------------------------------------------------\n",
      "Decision Tree sklearn: \n",
      "Accuracy:\t0.42857142857142855\n",
      "Precision:\t0.5232350718065004\n",
      "Loss:\t\t-1\n",
      "Recall:\t\t0.42857142857142855\n",
      "F1-Score:\t0.46024563671622487\n",
      "-----------------------------------------------------------------------------\n",
      "Random Forest: \n",
      "Accuracy:\t0.46616541353383456\n",
      "Precision:\t0.511310777304376\n",
      "Loss:\t\t-1\n",
      "Recall:\t\t0.46616541353383456\n",
      "F1-Score:\t0.4840242289205879\n",
      "-----------------------------------------------------------------------------\n",
      "Random Forest sklearn: \n",
      "Accuracy:\t0.5488721804511278\n",
      "Precision:\t0.5575477154424522\n",
      "Loss:\t\t-1\n",
      "Recall:\t\t0.5488721804511278\n",
      "F1-Score:\t0.5457494502411926\n",
      "-----------------------------------------------------------------------------\n",
      "CNN: \n",
      "Accuracy:\t1.0\n",
      "Precision:\t1.0\n",
      "Loss:\t\t-1\n",
      "Recall:\t\t1.0\n",
      "F1-Score:\t1.0\n",
      "-----------------------------------------------------------------------------\n",
      "Support Vector Machine: \n",
      "Accuracy:\t0.5488721804511278\n",
      "Precision:\t0.5207341811211035\n",
      "Loss:\t\t-1\n",
      "Recall:\t\t0.5488721804511278\n",
      "F1-Score:\t0.52121390754994\n"
     ]
    }
   ],
   "source": [
    "for method in predictions:\n",
    "    print(\"-----------------------------------------------------------------------------\")\n",
    "    print(f\"{method}: \")\n",
    "    print(HelperFunctions.get_scores(predictions[method][0], predictions[method][1]))"
   ]
  },
  {
   "cell_type": "markdown",
   "id": "c081e988",
   "metadata": {},
   "source": [
    "## 5. Presentation"
   ]
  },
  {
   "cell_type": "markdown",
   "id": "00180e80",
   "metadata": {},
   "source": [
    "#### Required Imports"
   ]
  },
  {
   "cell_type": "code",
   "execution_count": 36,
   "id": "2a60a1d3",
   "metadata": {},
   "outputs": [],
   "source": [
    "import HelperFunctions\n",
    "import modules.feature_extraction as fe\n",
    "\n",
    "\n",
    "%load_ext autoreload\n",
    "%autoreload 2"
   ]
  },
  {
   "cell_type": "markdown",
   "id": "bb2a7e64",
   "metadata": {},
   "source": [
    "#### Load the Data Provided by the Examiner"
   ]
  },
  {
   "cell_type": "code",
   "execution_count": 37,
   "id": "22432405",
   "metadata": {},
   "outputs": [
    {
     "ename": "UnboundLocalError",
     "evalue": "local variable 'classes' referenced before assignment",
     "output_type": "error",
     "traceback": [
      "\u001b[1;31m---------------------------------------------------------------------------\u001b[0m",
      "\u001b[1;31mUnboundLocalError\u001b[0m                         Traceback (most recent call last)",
      "\u001b[1;32m~\\AppData\\Local\\Temp/ipykernel_8588/2811528145.py\u001b[0m in \u001b[0;36m<module>\u001b[1;34m\u001b[0m\n\u001b[1;32m----> 1\u001b[1;33m \u001b[0mtestpaths\u001b[0m\u001b[1;33m,\u001b[0m \u001b[0mclasses\u001b[0m \u001b[1;33m=\u001b[0m \u001b[0mHelperFunctions\u001b[0m\u001b[1;33m.\u001b[0m\u001b[0mload_images\u001b[0m\u001b[1;33m(\u001b[0m\u001b[0mos\u001b[0m\u001b[1;33m.\u001b[0m\u001b[0mpath\u001b[0m\u001b[1;33m.\u001b[0m\u001b[0mjoin\u001b[0m\u001b[1;33m(\u001b[0m\u001b[1;34m\"data\"\u001b[0m\u001b[1;33m,\u001b[0m \u001b[1;34m\"images\"\u001b[0m\u001b[1;33m,\u001b[0m \u001b[1;34m\"presentation\"\u001b[0m\u001b[1;33m)\u001b[0m\u001b[1;33m)\u001b[0m\u001b[1;33m\u001b[0m\u001b[1;33m\u001b[0m\u001b[0m\n\u001b[0m\u001b[0;32m      2\u001b[0m \u001b[1;33m\u001b[0m\u001b[0m\n\u001b[0;32m      3\u001b[0m \u001b[0mX_presentation\u001b[0m \u001b[1;33m=\u001b[0m \u001b[1;33m[\u001b[0m\u001b[1;33m]\u001b[0m\u001b[1;33m\u001b[0m\u001b[1;33m\u001b[0m\u001b[0m\n\u001b[0;32m      4\u001b[0m \u001b[0my_presentation\u001b[0m \u001b[1;33m=\u001b[0m \u001b[1;33m[\u001b[0m\u001b[1;33m]\u001b[0m\u001b[1;33m\u001b[0m\u001b[1;33m\u001b[0m\u001b[0m\n\u001b[0;32m      5\u001b[0m \u001b[1;33m\u001b[0m\u001b[0m\n",
      "\u001b[1;32me:\\Uni\\Kuenstliche-Intelligenz\\Projektarbeit\\Projektarbeit-Kuenstliche-Intelligenz\\HelperFunctions.py\u001b[0m in \u001b[0;36mload_images\u001b[1;34m(path)\u001b[0m\n\u001b[0;32m     19\u001b[0m             \u001b[0mimgPaths\u001b[0m\u001b[1;33m.\u001b[0m\u001b[0mappend\u001b[0m\u001b[1;33m(\u001b[0m\u001b[0mos\u001b[0m\u001b[1;33m.\u001b[0m\u001b[0mpath\u001b[0m\u001b[1;33m.\u001b[0m\u001b[0mjoin\u001b[0m\u001b[1;33m(\u001b[0m\u001b[0mdirpath\u001b[0m\u001b[1;33m,\u001b[0m \u001b[0mfilename\u001b[0m\u001b[1;33m)\u001b[0m\u001b[1;33m)\u001b[0m\u001b[1;33m\u001b[0m\u001b[1;33m\u001b[0m\u001b[0m\n\u001b[0;32m     20\u001b[0m \u001b[1;33m\u001b[0m\u001b[0m\n\u001b[1;32m---> 21\u001b[1;33m     \u001b[1;32mreturn\u001b[0m \u001b[1;33m(\u001b[0m\u001b[0mimgPaths\u001b[0m\u001b[1;33m,\u001b[0m \u001b[0mclasses\u001b[0m\u001b[1;33m)\u001b[0m\u001b[1;33m\u001b[0m\u001b[1;33m\u001b[0m\u001b[0m\n\u001b[0m\u001b[0;32m     22\u001b[0m \u001b[1;33m\u001b[0m\u001b[0m\n\u001b[0;32m     23\u001b[0m \u001b[1;32mdef\u001b[0m \u001b[0mextract_features\u001b[0m\u001b[1;33m(\u001b[0m\u001b[0mpath\u001b[0m\u001b[1;33m)\u001b[0m\u001b[1;33m:\u001b[0m\u001b[1;33m\u001b[0m\u001b[1;33m\u001b[0m\u001b[0m\n",
      "\u001b[1;31mUnboundLocalError\u001b[0m: local variable 'classes' referenced before assignment"
     ]
    }
   ],
   "source": [
    "testpaths, classes = HelperFunctions.load_images(os.path.join(\"data\", \"images\", \"presentation\"))\n",
    "\n",
    "X_presentation = []\n",
    "y_presentation = []\n",
    "\n",
    "for path in testpaths:\n",
    "    img = cv2.imread(path, cv2.COLOR_BGR2RGB)\n",
    "    img = DataAugmentation.resizeAndPad(img, IMG_SIZE)\n",
    "    X_presentation.append(img)\n",
    "    y_presentation.append(classes[path.split(os.sep)[-2]])\n",
    "    \n",
    "data[\"Presentation Images\"] = np.array(X_tests)\n",
    "data[\"Presentation Labels\"] = np.array(y_tests)\n",
    "\n",
    "print(f\"Presentation images: {data['Presentation Images'].shape}, presentation labels: {data['Presentation Labels'].shape}.\")\n",
    "\n",
    "features = fe.extract_features(testpaths, classes, display_imgs=True)#, show_all=True)\n",
    "features.info()"
   ]
  },
  {
   "cell_type": "code",
   "execution_count": null,
   "id": "0bfac2e0",
   "metadata": {},
   "outputs": [],
   "source": []
  }
 ],
 "metadata": {
  "interpreter": {
   "hash": "5a40cf6a1da29a39ead2ba32911a0c6fce94dd082a7ebb2950da7752aaf1c51d"
  },
  "kernelspec": {
   "display_name": "ki1_venv",
   "language": "python",
   "name": "python3"
  },
  "language_info": {
   "codemirror_mode": {
    "name": "ipython",
    "version": 3
   },
   "file_extension": ".py",
   "mimetype": "text/x-python",
   "name": "python",
   "nbconvert_exporter": "python",
   "pygments_lexer": "ipython3",
   "version": "3.8.12"
  }
 },
 "nbformat": 4,
 "nbformat_minor": 5
}
