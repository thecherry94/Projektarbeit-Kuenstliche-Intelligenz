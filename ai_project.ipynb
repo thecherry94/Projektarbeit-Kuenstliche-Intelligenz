{
 "cells": [
  {
   "cell_type": "markdown",
   "id": "d565ba09",
   "metadata": {},
   "source": [
    "# Classification of Bottle Openers, Can Openers and Corc Screws by Means of AI Methods\n",
    "\n",
    "This assignment aims to provide multiple methods for classifying bottle openers, can openers and corc screws from images. The results of the different methods are to be analyzed and compared."
   ]
  },
  {
   "cell_type": "markdown",
   "id": "7f291efc",
   "metadata": {},
   "source": [
    "## 1. Data Aquisition and Augmentation\n",
    "\n",
    "To train the methods for classification from images, first some training data has to be acquired. "
   ]
  },
  {
   "cell_type": "code",
   "execution_count": null,
   "id": "bf2653ec",
   "metadata": {},
   "outputs": [],
   "source": []
  },
  {
   "cell_type": "markdown",
   "id": "02b7ac92",
   "metadata": {},
   "source": [
    "## 2. Feature Extraction\n",
    "\n",
    "The following features are to be extracted from the original image dataset (without the augmented images)\n",
    "* The outer contour's aspect ratio\n",
    "* Number of corners detected via Harris Corner Detection\n",
    "* Number of corners detected via Shi-Tomasi Corner Detection\n",
    "* The outer contour's perimeter-area ratio\n",
    "\n",
    "After the features are extracted they are saved in a CSV-File."
   ]
  },
  {
   "cell_type": "markdown",
   "id": "55703b49",
   "metadata": {},
   "source": [
    "### Required Imports"
   ]
  },
  {
   "cell_type": "code",
   "execution_count": null,
   "id": "0f01b23a",
   "metadata": {},
   "outputs": [],
   "source": [
    "import os\n",
    "import pandas\n",
    "import cv2\n",
    "import numpy as np\n",
    "\n",
    "import modules.feature_extraction as fe"
   ]
  }
 ],
 "metadata": {
  "kernelspec": {
   "display_name": "ki1_venv",
   "language": "python",
   "name": "ki1_venv"
  },
  "language_info": {
   "codemirror_mode": {
    "name": "ipython",
    "version": 3
   },
   "file_extension": ".py",
   "mimetype": "text/x-python",
   "name": "python",
   "nbconvert_exporter": "python",
   "pygments_lexer": "ipython3",
   "version": "3.9.9"
  }
 },
 "nbformat": 4,
 "nbformat_minor": 5
}
