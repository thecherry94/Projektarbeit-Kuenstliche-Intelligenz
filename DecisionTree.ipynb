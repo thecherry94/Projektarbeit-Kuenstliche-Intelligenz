{
 "cells": [
  {
   "cell_type": "code",
   "execution_count": 1,
   "metadata": {},
   "outputs": [],
   "source": [
    "import pandas as pd\n",
    "import numpy as np\n",
    "import DecisionTree as dt\n",
    "import RandomForest as rf"
   ]
  },
  {
   "cell_type": "code",
   "execution_count": 2,
   "metadata": {},
   "outputs": [],
   "source": [
    "# df = pd.read_csv('data_banknote_authentication.txt', sep=',', header=None)\n",
    "df = pd.read_csv(r\"E:\\Uni\\Kuenstliche-Intelligenz\\Projektarbeit\\Projektarbeit-Kuenstliche-Intelligenz\\data\\features.csv\", sep=';', header=None)\n",
    "df = df.iloc[1:, 3:]\n",
    "df = df.reindex(columns=[4, 5, 6, 7, 3])\n",
    "df = df.apply(pd.to_numeric, errors='coerce')\n",
    "df = df[df.iloc[:, -1] < 3]\n",
    "df = df.sample(frac=1)"
   ]
  },
  {
   "cell_type": "code",
   "execution_count": 3,
   "metadata": {},
   "outputs": [],
   "source": [
    "train = df.to_numpy(dtype='float32')[int(len(df)*0.8):]\n",
    "test = df.to_numpy(dtype='float32')[:int(len(df)*0.8)]"
   ]
  },
  {
   "cell_type": "code",
   "execution_count": 4,
   "metadata": {},
   "outputs": [],
   "source": [
    "tree = dt.build_tree(train, 8, 1)"
   ]
  },
  {
   "cell_type": "code",
   "execution_count": 5,
   "metadata": {},
   "outputs": [
    {
     "name": "stdout",
     "output_type": "stream",
     "text": [
      "0.5348399246704332\n"
     ]
    }
   ],
   "source": [
    "runs = 0\n",
    "correct = 0\n",
    "for row in test:\n",
    "    runs += 1\n",
    "    pred = dt.predict(tree, row)\n",
    "    expected = row[-1]\n",
    "\n",
    "    if expected == pred:\n",
    "        correct +=1\n",
    "\n",
    "print(correct/runs)"
   ]
  },
  {
   "cell_type": "code",
   "execution_count": 6,
   "metadata": {},
   "outputs": [
    {
     "data": {
      "text/plain": [
       "[0.5141242937853108,\n",
       " 0.5141242937853108,\n",
       " 0.5574387947269304,\n",
       " 0.5423728813559322,\n",
       " 0.4952919020715631,\n",
       " 0.5084745762711864,\n",
       " 0.4971751412429379,\n",
       " 0.5329566854990584,\n",
       " 0.544256120527307,\n",
       " 0.5348399246704332,\n",
       " 0.5348399246704332,\n",
       " 0.5348399246704332,\n",
       " 0.5348399246704332,\n",
       " 0.5348399246704332,\n",
       " 0.5348399246704332,\n",
       " 0.5348399246704332,\n",
       " 0.5348399246704332,\n",
       " 0.5348399246704332,\n",
       " 0.5348399246704332,\n",
       " 0.5348399246704332]"
      ]
     },
     "execution_count": 6,
     "metadata": {},
     "output_type": "execute_result"
    }
   ],
   "source": [
    "max_tree_depth = 20\n",
    "results = []\n",
    "for i in range(max_tree_depth):\n",
    "    tree = dt.build_tree(train, i, 3)\n",
    "    runs = 0\n",
    "    correct = 0\n",
    "    for row in test:\n",
    "        runs += 1\n",
    "        pred = dt.predict(tree, row)\n",
    "        expected = row[-1]\n",
    "\n",
    "        if expected == pred:\n",
    "            correct +=1\n",
    "    results.append(correct/runs)\n",
    "\n",
    "results"
   ]
  },
  {
   "cell_type": "code",
   "execution_count": 7,
   "metadata": {},
   "outputs": [
    {
     "name": "stdout",
     "output_type": "stream",
     "text": [
      "0.5348399246704332\n"
     ]
    }
   ],
   "source": [
    "max_depths = [3, 6, 9, 12, 15, 18, 21]\n",
    "min_sizes = [3 for i in range(len(max_depths))]\n",
    "\n",
    "forest = rf.build_forest(train, max_depths, min_sizes)\n",
    "\n",
    "runs = 0\n",
    "correct = 0\n",
    "for row in test:\n",
    "    runs += 1\n",
    "    pred = rf.predict(forest, row)\n",
    "    expected = row[-1]\n",
    "\n",
    "    if expected == pred:\n",
    "        correct +=1\n",
    "\n",
    "print(correct/runs)"
   ]
  }
 ],
 "metadata": {
  "interpreter": {
   "hash": "5a40cf6a1da29a39ead2ba32911a0c6fce94dd082a7ebb2950da7752aaf1c51d"
  },
  "kernelspec": {
   "display_name": "Python 3 (ipykernel)",
   "language": "python",
   "name": "python3"
  },
  "language_info": {
   "codemirror_mode": {
    "name": "ipython",
    "version": 3
   },
   "file_extension": ".py",
   "mimetype": "text/x-python",
   "name": "python",
   "nbconvert_exporter": "python",
   "pygments_lexer": "ipython3",
   "version": "3.9.9"
  }
 },
 "nbformat": 4,
 "nbformat_minor": 2
}
