{
 "cells": [
  {
   "cell_type": "code",
   "execution_count": 1,
   "metadata": {},
   "outputs": [],
   "source": [
    "import pandas as pd\n",
    "import numpy as np\n",
    "import DecisionTree as dt\n",
    "import RandomForest as rf\n",
    "import HelperFunctions as hf\n",
    "from sklearn.tree import DecisionTreeClassifier\n",
    "import HelperFunctions\n",
    "import os"
   ]
  },
  {
   "cell_type": "markdown",
   "metadata": {},
   "source": [
    "#### Data processing"
   ]
  },
  {
   "cell_type": "code",
   "execution_count": 2,
   "metadata": {},
   "outputs": [],
   "source": [
    "# Read the features CSV file\n",
    "df = pd.read_csv(r\"E:\\Uni\\Kuenstliche-Intelligenz\\Projektarbeit\\Projektarbeit-Kuenstliche-Intelligenz\\data\\features.csv\", sep=';', header=None)\n",
    "\n",
    "# Shave off unnecessary data\n",
    "df = df.iloc[1:, 3:]\n",
    "\n",
    "# Put classification column at the end\n",
    "df = df.reindex(columns=[4, 5, 6, 7, 3])\n",
    "\n",
    "# Convert all entries to numbers\n",
    "df = df.apply(pd.to_numeric, errors='coerce')\n",
    "\n",
    "# Remove the multitool classification\n",
    "#df = df[df.iloc[:, -1] < 3]\n",
    "\n",
    "# Shuffle dataset\n",
    "df = df.sample(frac=1)"
   ]
  },
  {
   "cell_type": "markdown",
   "metadata": {},
   "source": [
    "#### Split train / test data"
   ]
  },
  {
   "cell_type": "code",
   "execution_count": 3,
   "metadata": {},
   "outputs": [],
   "source": [
    "train = df.to_numpy(dtype='float32')[int(len(df)*0.8):]\n",
    "test = df.to_numpy(dtype='float32')[:int(len(df)*0.8)]"
   ]
  },
  {
   "cell_type": "markdown",
   "metadata": {},
   "source": [
    "#### Build decision tree"
   ]
  },
  {
   "cell_type": "code",
   "execution_count": 4,
   "metadata": {},
   "outputs": [
    {
     "name": "stdout",
     "output_type": "stream",
     "text": [
      "Accuracy Decision Tree:  0.4305317324185249\n"
     ]
    }
   ],
   "source": [
    "tree = dt.build_tree(train, 8, 1)\n",
    "\n",
    "X_train = train[:, :-1]\n",
    "y_train = train[:, -1]\n",
    "X_test = test[:, :-1]\n",
    "y_test = test[:, -1]\n",
    "\n",
    "tree_clf = DecisionTreeClassifier()\n",
    "tree_clf.fit(X_train, y_train)\n",
    "print('Accuracy Decision Tree: ', tree_clf.score(X_test, y_test))"
   ]
  },
  {
   "cell_type": "markdown",
   "metadata": {},
   "source": [
    "### Test decision tree accuracy with test dataset"
   ]
  },
  {
   "cell_type": "markdown",
   "metadata": {},
   "source": [
    "#### Eigener Baum"
   ]
  },
  {
   "cell_type": "code",
   "execution_count": 5,
   "metadata": {},
   "outputs": [],
   "source": [
    "pred = np.array([dt.predict(tree, row) for row in test]).astype(int)"
   ]
  },
  {
   "cell_type": "code",
   "execution_count": 6,
   "metadata": {},
   "outputs": [
    {
     "name": "stdout",
     "output_type": "stream",
     "text": [
      "Accuracy:\t0.4648370497427101\n",
      "Precision:\t0.47012629939031786\n",
      "Loss:\t\t-1\n",
      "Recall:\t\t0.4648370497427101\n",
      "F1-Score:\t0.448088436424025\n"
     ]
    }
   ],
   "source": [
    "print(hf.get_scores(test[:, -1].astype(int), pred))"
   ]
  },
  {
   "cell_type": "markdown",
   "metadata": {},
   "source": [
    "#### Decision Tree classifier von sklearn"
   ]
  },
  {
   "cell_type": "code",
   "execution_count": 7,
   "metadata": {},
   "outputs": [],
   "source": [
    "pred = tree_clf.predict(X_test).astype(int)"
   ]
  },
  {
   "cell_type": "code",
   "execution_count": 8,
   "metadata": {},
   "outputs": [
    {
     "name": "stdout",
     "output_type": "stream",
     "text": [
      "Accuracy:\t0.4305317324185249\n",
      "Precision:\t0.426177193024854\n",
      "Loss:\t\t-1\n",
      "Recall:\t\t0.4305317324185249\n",
      "F1-Score:\t0.4264002059991887\n"
     ]
    }
   ],
   "source": [
    "print(hf.get_scores(y_test, pred))"
   ]
  },
  {
   "cell_type": "markdown",
   "metadata": {},
   "source": [
    "### Bilder von Frau Burghart hier"
   ]
  },
  {
   "cell_type": "code",
   "execution_count": 16,
   "metadata": {},
   "outputs": [
    {
     "name": "stdout",
     "output_type": "stream",
     "text": [
      "Class names and indices: {'bottleOpener': 0, 'canOpener': 1, 'corcScrew': 2, 'multiTool': 3}\n",
      "94.74 %\r"
     ]
    }
   ],
   "source": [
    "df = HelperFunctions.extract_features(os.path.join(\"data\", \"images\", \"test\"))\n",
    "df = HelperFunctions.process_feature_dataframe(df)\n",
    "\n",
    "x_test = np.array(df.iloc[:, :]).astype(float)\n",
    "y_test = np.array(df.iloc[:, -1]).astype(float)"
   ]
  },
  {
   "cell_type": "markdown",
   "metadata": {},
   "source": [
    "#### sklearn tree"
   ]
  },
  {
   "cell_type": "code",
   "execution_count": 33,
   "metadata": {},
   "outputs": [
    {
     "name": "stdout",
     "output_type": "stream",
     "text": [
      "Accuracy:\t0.6428571428571429\n",
      "Precision:\t0.4613095238095238\n",
      "Loss:\t\t-1\n",
      "Recall:\t\t0.6428571428571429\n",
      "F1-Score:\t0.5344655344655344\n"
     ]
    },
    {
     "name": "stderr",
     "output_type": "stream",
     "text": [
      "C:\\Users\\Philipp\\anaconda3\\lib\\site-packages\\sklearn\\metrics\\_classification.py:1245: UndefinedMetricWarning: Precision is ill-defined and being set to 0.0 in labels with no predicted samples. Use `zero_division` parameter to control this behavior.\n",
      "  _warn_prf(average, modifier, msg_start, len(result))\n"
     ]
    }
   ],
   "source": [
    "y_pred = tree_clf.predict(x_test[:, :-1])\n",
    "print(HelperFunctions.get_scores(y_test, y_pred))"
   ]
  },
  {
   "cell_type": "markdown",
   "metadata": {},
   "source": [
    "#### Eigener tree"
   ]
  },
  {
   "cell_type": "code",
   "execution_count": 34,
   "metadata": {},
   "outputs": [
    {
     "name": "stdout",
     "output_type": "stream",
     "text": [
      "Class names and indices: {'bottleOpener': 0, 'canOpener': 1, 'corcScrew': 2, 'multiTool': 3}\n",
      "Accuracy:\t0.6428571428571429\n",
      "Precision:\t0.5089285714285714\n",
      "Loss:\t\t-1\n",
      "Recall:\t\t0.6428571428571429\n",
      "F1-Score:\t0.5604395604395604\n"
     ]
    }
   ],
   "source": [
    "df = HelperFunctions.extract_features(os.path.join(\"data\", \"images\", \"test\"))\n",
    "df = HelperFunctions.process_feature_dataframe(df)\n",
    "\n",
    "y_pred = np.array([dt.predict(tree, row) for row in x_test])\n",
    "\n",
    "print(hf.get_scores(y_test, y_pred))"
   ]
  },
  {
   "cell_type": "markdown",
   "metadata": {},
   "source": [
    "#### Random forest accuracy test"
   ]
  }
 ],
 "metadata": {
  "interpreter": {
   "hash": "5a40cf6a1da29a39ead2ba32911a0c6fce94dd082a7ebb2950da7752aaf1c51d"
  },
  "kernelspec": {
   "display_name": "Python 3 (ipykernel)",
   "language": "python",
   "name": "python3"
  },
  "language_info": {
   "codemirror_mode": {
    "name": "ipython",
    "version": 3
   },
   "file_extension": ".py",
   "mimetype": "text/x-python",
   "name": "python",
   "nbconvert_exporter": "python",
   "pygments_lexer": "ipython3",
   "version": "3.8.8"
  }
 },
 "nbformat": 4,
 "nbformat_minor": 2
}
